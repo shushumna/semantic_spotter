{
  "nbformat": 4,
  "nbformat_minor": 0,
  "metadata": {
    "colab": {
      "provenance": []
    },
    "kernelspec": {
      "name": "python3",
      "display_name": "Python 3"
    },
    "language_info": {
      "name": "python"
    }
  },
  "cells": [
    {
      "cell_type": "markdown",
      "source": [
        "***Problem Statement*** - Getting information from the file that contains research data of user/item interactions,star ratings,timestamps,product reviews,social networks,item-to-item relationships(e.g.copurchases,compatibility),product images,price,brand,and category information,GPS data,heart-rate sequences,other metadata.\n",
        "\n",
        "***Solution Strategy*** - Build a POC which should solve the following requirements:\n",
        "\n",
        "- Users would responses from the researched data\n",
        "- If they want to refer to the original data from which the bot is responding, the bot should provide a citation as well.\n",
        "\n",
        "Goal - Solving the above two requirements well in the POC would ensure that the accuracy of the overall model is good and therefore further improvisations and customizations make sense.\n",
        "\n",
        "***Data Used*** - Recommendation datasets stored in one pdf file\n",
        "\n",
        "***Tools used*** - LlamaIndex (only for now) has been used due to its powerful query engine, fast data processing using data loaders and directory readers as well as easier and faster implementation using fewer lines of code."
      ],
      "metadata": {
        "id": "tdYaa30aNzJu"
      }
    },
    {
      "cell_type": "markdown",
      "source": [
        "**Import the necessary libraries**"
      ],
      "metadata": {
        "id": "s31z1SHPl0Xo"
      }
    },
    {
      "cell_type": "code",
      "source": [
        "!pip install llama-index"
      ],
      "metadata": {
        "id": "fVLAEWc3OAT7",
        "colab": {
          "base_uri": "https://localhost:8080/"
        },
        "outputId": "05829e7a-66f5-4666-a76a-9b2532fcdb6e"
      },
      "execution_count": null,
      "outputs": [
        {
          "output_type": "stream",
          "name": "stdout",
          "text": [
            "Requirement already satisfied: llama-index in /usr/local/lib/python3.10/dist-packages (0.10.51)\n",
            "Requirement already satisfied: llama-index-agent-openai<0.3.0,>=0.1.4 in /usr/local/lib/python3.10/dist-packages (from llama-index) (0.2.7)\n",
            "Requirement already satisfied: llama-index-cli<0.2.0,>=0.1.2 in /usr/local/lib/python3.10/dist-packages (from llama-index) (0.1.12)\n",
            "Requirement already satisfied: llama-index-core==0.10.51 in /usr/local/lib/python3.10/dist-packages (from llama-index) (0.10.51)\n",
            "Requirement already satisfied: llama-index-embeddings-openai<0.2.0,>=0.1.5 in /usr/local/lib/python3.10/dist-packages (from llama-index) (0.1.10)\n",
            "Requirement already satisfied: llama-index-indices-managed-llama-cloud>=0.2.0 in /usr/local/lib/python3.10/dist-packages (from llama-index) (0.2.1)\n",
            "Requirement already satisfied: llama-index-legacy<0.10.0,>=0.9.48 in /usr/local/lib/python3.10/dist-packages (from llama-index) (0.9.48)\n",
            "Requirement already satisfied: llama-index-llms-openai<0.2.0,>=0.1.13 in /usr/local/lib/python3.10/dist-packages (from llama-index) (0.1.24)\n",
            "Requirement already satisfied: llama-index-multi-modal-llms-openai<0.2.0,>=0.1.3 in /usr/local/lib/python3.10/dist-packages (from llama-index) (0.1.6)\n",
            "Requirement already satisfied: llama-index-program-openai<0.2.0,>=0.1.3 in /usr/local/lib/python3.10/dist-packages (from llama-index) (0.1.6)\n",
            "Requirement already satisfied: llama-index-question-gen-openai<0.2.0,>=0.1.2 in /usr/local/lib/python3.10/dist-packages (from llama-index) (0.1.3)\n",
            "Requirement already satisfied: llama-index-readers-file<0.2.0,>=0.1.4 in /usr/local/lib/python3.10/dist-packages (from llama-index) (0.1.25)\n",
            "Requirement already satisfied: llama-index-readers-llama-parse<0.2.0,>=0.1.2 in /usr/local/lib/python3.10/dist-packages (from llama-index) (0.1.4)\n",
            "Requirement already satisfied: PyYAML>=6.0.1 in /usr/local/lib/python3.10/dist-packages (from llama-index-core==0.10.51->llama-index) (6.0.1)\n",
            "Requirement already satisfied: SQLAlchemy[asyncio]>=1.4.49 in /usr/local/lib/python3.10/dist-packages (from llama-index-core==0.10.51->llama-index) (2.0.31)\n",
            "Requirement already satisfied: aiohttp<4.0.0,>=3.8.6 in /usr/local/lib/python3.10/dist-packages (from llama-index-core==0.10.51->llama-index) (3.9.5)\n",
            "Requirement already satisfied: dataclasses-json in /usr/local/lib/python3.10/dist-packages (from llama-index-core==0.10.51->llama-index) (0.6.7)\n",
            "Requirement already satisfied: deprecated>=1.2.9.3 in /usr/local/lib/python3.10/dist-packages (from llama-index-core==0.10.51->llama-index) (1.2.14)\n",
            "Requirement already satisfied: dirtyjson<2.0.0,>=1.0.8 in /usr/local/lib/python3.10/dist-packages (from llama-index-core==0.10.51->llama-index) (1.0.8)\n",
            "Requirement already satisfied: fsspec>=2023.5.0 in /usr/local/lib/python3.10/dist-packages (from llama-index-core==0.10.51->llama-index) (2023.6.0)\n",
            "Requirement already satisfied: httpx in /usr/local/lib/python3.10/dist-packages (from llama-index-core==0.10.51->llama-index) (0.27.0)\n",
            "Requirement already satisfied: llama-cloud<0.0.7,>=0.0.6 in /usr/local/lib/python3.10/dist-packages (from llama-index-core==0.10.51->llama-index) (0.0.6)\n",
            "Requirement already satisfied: nest-asyncio<2.0.0,>=1.5.8 in /usr/local/lib/python3.10/dist-packages (from llama-index-core==0.10.51->llama-index) (1.6.0)\n",
            "Requirement already satisfied: networkx>=3.0 in /usr/local/lib/python3.10/dist-packages (from llama-index-core==0.10.51->llama-index) (3.3)\n",
            "Requirement already satisfied: nltk<4.0.0,>=3.8.1 in /usr/local/lib/python3.10/dist-packages (from llama-index-core==0.10.51->llama-index) (3.8.1)\n",
            "Requirement already satisfied: numpy<2.0.0 in /usr/local/lib/python3.10/dist-packages (from llama-index-core==0.10.51->llama-index) (1.25.2)\n",
            "Requirement already satisfied: openai>=1.1.0 in /usr/local/lib/python3.10/dist-packages (from llama-index-core==0.10.51->llama-index) (1.35.7)\n",
            "Requirement already satisfied: pandas in /usr/local/lib/python3.10/dist-packages (from llama-index-core==0.10.51->llama-index) (2.0.3)\n",
            "Requirement already satisfied: pillow>=9.0.0 in /usr/local/lib/python3.10/dist-packages (from llama-index-core==0.10.51->llama-index) (9.4.0)\n",
            "Requirement already satisfied: requests>=2.31.0 in /usr/local/lib/python3.10/dist-packages (from llama-index-core==0.10.51->llama-index) (2.31.0)\n",
            "Requirement already satisfied: tenacity!=8.4.0,<9.0.0,>=8.2.0 in /usr/local/lib/python3.10/dist-packages (from llama-index-core==0.10.51->llama-index) (8.4.1)\n",
            "Requirement already satisfied: tiktoken>=0.3.3 in /usr/local/lib/python3.10/dist-packages (from llama-index-core==0.10.51->llama-index) (0.7.0)\n",
            "Requirement already satisfied: tqdm<5.0.0,>=4.66.1 in /usr/local/lib/python3.10/dist-packages (from llama-index-core==0.10.51->llama-index) (4.66.4)\n",
            "Requirement already satisfied: typing-extensions>=4.5.0 in /usr/local/lib/python3.10/dist-packages (from llama-index-core==0.10.51->llama-index) (4.12.2)\n",
            "Requirement already satisfied: typing-inspect>=0.8.0 in /usr/local/lib/python3.10/dist-packages (from llama-index-core==0.10.51->llama-index) (0.9.0)\n",
            "Requirement already satisfied: wrapt in /usr/local/lib/python3.10/dist-packages (from llama-index-core==0.10.51->llama-index) (1.14.1)\n",
            "Requirement already satisfied: beautifulsoup4<5.0.0,>=4.12.3 in /usr/local/lib/python3.10/dist-packages (from llama-index-readers-file<0.2.0,>=0.1.4->llama-index) (4.12.3)\n",
            "Requirement already satisfied: pypdf<5.0.0,>=4.0.1 in /usr/local/lib/python3.10/dist-packages (from llama-index-readers-file<0.2.0,>=0.1.4->llama-index) (4.2.0)\n",
            "Requirement already satisfied: striprtf<0.0.27,>=0.0.26 in /usr/local/lib/python3.10/dist-packages (from llama-index-readers-file<0.2.0,>=0.1.4->llama-index) (0.0.26)\n",
            "Requirement already satisfied: llama-parse<0.5.0,>=0.4.0 in /usr/local/lib/python3.10/dist-packages (from llama-index-readers-llama-parse<0.2.0,>=0.1.2->llama-index) (0.4.4)\n",
            "Requirement already satisfied: aiosignal>=1.1.2 in /usr/local/lib/python3.10/dist-packages (from aiohttp<4.0.0,>=3.8.6->llama-index-core==0.10.51->llama-index) (1.3.1)\n",
            "Requirement already satisfied: attrs>=17.3.0 in /usr/local/lib/python3.10/dist-packages (from aiohttp<4.0.0,>=3.8.6->llama-index-core==0.10.51->llama-index) (23.2.0)\n",
            "Requirement already satisfied: frozenlist>=1.1.1 in /usr/local/lib/python3.10/dist-packages (from aiohttp<4.0.0,>=3.8.6->llama-index-core==0.10.51->llama-index) (1.4.1)\n",
            "Requirement already satisfied: multidict<7.0,>=4.5 in /usr/local/lib/python3.10/dist-packages (from aiohttp<4.0.0,>=3.8.6->llama-index-core==0.10.51->llama-index) (6.0.5)\n",
            "Requirement already satisfied: yarl<2.0,>=1.0 in /usr/local/lib/python3.10/dist-packages (from aiohttp<4.0.0,>=3.8.6->llama-index-core==0.10.51->llama-index) (1.9.4)\n",
            "Requirement already satisfied: async-timeout<5.0,>=4.0 in /usr/local/lib/python3.10/dist-packages (from aiohttp<4.0.0,>=3.8.6->llama-index-core==0.10.51->llama-index) (4.0.3)\n",
            "Requirement already satisfied: soupsieve>1.2 in /usr/local/lib/python3.10/dist-packages (from beautifulsoup4<5.0.0,>=4.12.3->llama-index-readers-file<0.2.0,>=0.1.4->llama-index) (2.5)\n",
            "Requirement already satisfied: pydantic>=1.10 in /usr/local/lib/python3.10/dist-packages (from llama-cloud<0.0.7,>=0.0.6->llama-index-core==0.10.51->llama-index) (2.7.4)\n",
            "Requirement already satisfied: anyio in /usr/local/lib/python3.10/dist-packages (from httpx->llama-index-core==0.10.51->llama-index) (3.7.1)\n",
            "Requirement already satisfied: certifi in /usr/local/lib/python3.10/dist-packages (from httpx->llama-index-core==0.10.51->llama-index) (2024.6.2)\n",
            "Requirement already satisfied: httpcore==1.* in /usr/local/lib/python3.10/dist-packages (from httpx->llama-index-core==0.10.51->llama-index) (1.0.5)\n",
            "Requirement already satisfied: idna in /usr/local/lib/python3.10/dist-packages (from httpx->llama-index-core==0.10.51->llama-index) (3.7)\n",
            "Requirement already satisfied: sniffio in /usr/local/lib/python3.10/dist-packages (from httpx->llama-index-core==0.10.51->llama-index) (1.3.1)\n",
            "Requirement already satisfied: h11<0.15,>=0.13 in /usr/local/lib/python3.10/dist-packages (from httpcore==1.*->httpx->llama-index-core==0.10.51->llama-index) (0.14.0)\n",
            "Requirement already satisfied: click in /usr/local/lib/python3.10/dist-packages (from nltk<4.0.0,>=3.8.1->llama-index-core==0.10.51->llama-index) (8.1.7)\n",
            "Requirement already satisfied: joblib in /usr/local/lib/python3.10/dist-packages (from nltk<4.0.0,>=3.8.1->llama-index-core==0.10.51->llama-index) (1.4.2)\n",
            "Requirement already satisfied: regex>=2021.8.3 in /usr/local/lib/python3.10/dist-packages (from nltk<4.0.0,>=3.8.1->llama-index-core==0.10.51->llama-index) (2024.5.15)\n",
            "Requirement already satisfied: distro<2,>=1.7.0 in /usr/lib/python3/dist-packages (from openai>=1.1.0->llama-index-core==0.10.51->llama-index) (1.7.0)\n",
            "Requirement already satisfied: charset-normalizer<4,>=2 in /usr/local/lib/python3.10/dist-packages (from requests>=2.31.0->llama-index-core==0.10.51->llama-index) (3.3.2)\n",
            "Requirement already satisfied: urllib3<3,>=1.21.1 in /usr/local/lib/python3.10/dist-packages (from requests>=2.31.0->llama-index-core==0.10.51->llama-index) (2.0.7)\n",
            "Requirement already satisfied: greenlet!=0.4.17 in /usr/local/lib/python3.10/dist-packages (from SQLAlchemy[asyncio]>=1.4.49->llama-index-core==0.10.51->llama-index) (3.0.3)\n",
            "Requirement already satisfied: mypy-extensions>=0.3.0 in /usr/local/lib/python3.10/dist-packages (from typing-inspect>=0.8.0->llama-index-core==0.10.51->llama-index) (1.0.0)\n",
            "Requirement already satisfied: marshmallow<4.0.0,>=3.18.0 in /usr/local/lib/python3.10/dist-packages (from dataclasses-json->llama-index-core==0.10.51->llama-index) (3.21.3)\n",
            "Requirement already satisfied: python-dateutil>=2.8.2 in /usr/local/lib/python3.10/dist-packages (from pandas->llama-index-core==0.10.51->llama-index) (2.8.2)\n",
            "Requirement already satisfied: pytz>=2020.1 in /usr/local/lib/python3.10/dist-packages (from pandas->llama-index-core==0.10.51->llama-index) (2023.4)\n",
            "Requirement already satisfied: tzdata>=2022.1 in /usr/local/lib/python3.10/dist-packages (from pandas->llama-index-core==0.10.51->llama-index) (2024.1)\n",
            "Requirement already satisfied: exceptiongroup in /usr/local/lib/python3.10/dist-packages (from anyio->httpx->llama-index-core==0.10.51->llama-index) (1.2.1)\n",
            "Requirement already satisfied: packaging>=17.0 in /usr/local/lib/python3.10/dist-packages (from marshmallow<4.0.0,>=3.18.0->dataclasses-json->llama-index-core==0.10.51->llama-index) (24.1)\n",
            "Requirement already satisfied: annotated-types>=0.4.0 in /usr/local/lib/python3.10/dist-packages (from pydantic>=1.10->llama-cloud<0.0.7,>=0.0.6->llama-index-core==0.10.51->llama-index) (0.7.0)\n",
            "Requirement already satisfied: pydantic-core==2.18.4 in /usr/local/lib/python3.10/dist-packages (from pydantic>=1.10->llama-cloud<0.0.7,>=0.0.6->llama-index-core==0.10.51->llama-index) (2.18.4)\n",
            "Requirement already satisfied: six>=1.5 in /usr/local/lib/python3.10/dist-packages (from python-dateutil>=2.8.2->pandas->llama-index-core==0.10.51->llama-index) (1.16.0)\n"
          ]
        }
      ]
    },
    {
      "cell_type": "code",
      "source": [
        "#Loading docx2txt for document reading related dependencies\n",
        "!pip install docx2txt"
      ],
      "metadata": {
        "colab": {
          "base_uri": "https://localhost:8080/"
        },
        "id": "pOoEBTNAFrPp",
        "outputId": "9a950341-949c-44a8-883c-4b191df15500"
      },
      "execution_count": null,
      "outputs": [
        {
          "output_type": "stream",
          "name": "stdout",
          "text": [
            "Requirement already satisfied: docx2txt in /usr/local/lib/python3.10/dist-packages (0.8)\n"
          ]
        }
      ]
    },
    {
      "cell_type": "code",
      "source": [
        "!pip install pypdf"
      ],
      "metadata": {
        "colab": {
          "base_uri": "https://localhost:8080/"
        },
        "id": "FlPXDyqtF1dL",
        "outputId": "4570e371-2e59-4074-db4e-60db4772769b"
      },
      "execution_count": null,
      "outputs": [
        {
          "output_type": "stream",
          "name": "stdout",
          "text": [
            "Requirement already satisfied: pypdf in /usr/local/lib/python3.10/dist-packages (4.2.0)\n",
            "Requirement already satisfied: typing_extensions>=4.0 in /usr/local/lib/python3.10/dist-packages (from pypdf) (4.12.2)\n"
          ]
        }
      ]
    },
    {
      "cell_type": "code",
      "source": [
        "!pip install openai"
      ],
      "metadata": {
        "colab": {
          "base_uri": "https://localhost:8080/"
        },
        "id": "qQnlvpx3F62B",
        "outputId": "087134e1-ceee-47ea-d766-c30feb00df88"
      },
      "execution_count": null,
      "outputs": [
        {
          "output_type": "stream",
          "name": "stdout",
          "text": [
            "Requirement already satisfied: openai in /usr/local/lib/python3.10/dist-packages (1.35.7)\n",
            "Requirement already satisfied: anyio<5,>=3.5.0 in /usr/local/lib/python3.10/dist-packages (from openai) (3.7.1)\n",
            "Requirement already satisfied: distro<2,>=1.7.0 in /usr/lib/python3/dist-packages (from openai) (1.7.0)\n",
            "Requirement already satisfied: httpx<1,>=0.23.0 in /usr/local/lib/python3.10/dist-packages (from openai) (0.27.0)\n",
            "Requirement already satisfied: pydantic<3,>=1.9.0 in /usr/local/lib/python3.10/dist-packages (from openai) (2.7.4)\n",
            "Requirement already satisfied: sniffio in /usr/local/lib/python3.10/dist-packages (from openai) (1.3.1)\n",
            "Requirement already satisfied: tqdm>4 in /usr/local/lib/python3.10/dist-packages (from openai) (4.66.4)\n",
            "Requirement already satisfied: typing-extensions<5,>=4.7 in /usr/local/lib/python3.10/dist-packages (from openai) (4.12.2)\n",
            "Requirement already satisfied: idna>=2.8 in /usr/local/lib/python3.10/dist-packages (from anyio<5,>=3.5.0->openai) (3.7)\n",
            "Requirement already satisfied: exceptiongroup in /usr/local/lib/python3.10/dist-packages (from anyio<5,>=3.5.0->openai) (1.2.1)\n",
            "Requirement already satisfied: certifi in /usr/local/lib/python3.10/dist-packages (from httpx<1,>=0.23.0->openai) (2024.6.2)\n",
            "Requirement already satisfied: httpcore==1.* in /usr/local/lib/python3.10/dist-packages (from httpx<1,>=0.23.0->openai) (1.0.5)\n",
            "Requirement already satisfied: h11<0.15,>=0.13 in /usr/local/lib/python3.10/dist-packages (from httpcore==1.*->httpx<1,>=0.23.0->openai) (0.14.0)\n",
            "Requirement already satisfied: annotated-types>=0.4.0 in /usr/local/lib/python3.10/dist-packages (from pydantic<3,>=1.9.0->openai) (0.7.0)\n",
            "Requirement already satisfied: pydantic-core==2.18.4 in /usr/local/lib/python3.10/dist-packages (from pydantic<3,>=1.9.0->openai) (2.18.4)\n"
          ]
        }
      ]
    },
    {
      "cell_type": "code",
      "source": [
        "from llama_index.core.llms import ChatMessage\n",
        "import os\n",
        "import openai"
      ],
      "metadata": {
        "id": "otpmB1-BImLh"
      },
      "execution_count": null,
      "outputs": []
    },
    {
      "cell_type": "markdown",
      "source": [
        "**Mount your Google Drive and Set the API key**"
      ],
      "metadata": {
        "id": "TmXP0OrOn7sg"
      }
    },
    {
      "cell_type": "code",
      "source": [
        "# Mount Google Drive\n",
        "from google.colab import drive\n",
        "drive.mount('/content/drive')"
      ],
      "metadata": {
        "colab": {
          "base_uri": "https://localhost:8080/"
        },
        "id": "sku8-h20Iihn",
        "outputId": "be3e2d96-8c25-4e1e-e4de-15edc73e9a75"
      },
      "execution_count": null,
      "outputs": [
        {
          "output_type": "stream",
          "name": "stdout",
          "text": [
            "Drive already mounted at /content/drive; to attempt to forcibly remount, call drive.mount(\"/content/drive\", force_remount=True).\n"
          ]
        }
      ]
    },
    {
      "cell_type": "code",
      "source": [
        "# Set the API key\n",
        "filepath = \"/content/drive/My Drive/Semantic_Spotter_Support/\"\n",
        "\n",
        "with open(filepath + \"OpenAI_API_Key.txt\", \"r\") as f:\n",
        "  openai.api_key = ' '.join(f.readlines())"
      ],
      "metadata": {
        "id": "IB4adyvbGBwv"
      },
      "execution_count": null,
      "outputs": []
    },
    {
      "cell_type": "code",
      "source": [
        "from llama_index.core import SimpleDirectoryReader"
      ],
      "metadata": {
        "id": "zNhkDiC4czEj"
      },
      "execution_count": null,
      "outputs": []
    },
    {
      "cell_type": "markdown",
      "source": [
        "**Data Loading**"
      ],
      "metadata": {
        "id": "i2ebqb0HoCFw"
      }
    },
    {
      "cell_type": "code",
      "source": [
        "reader = SimpleDirectoryReader(input_dir=\"/content/drive/MyDrive/Semantic_Spotter_Support\")"
      ],
      "metadata": {
        "id": "Sx6AIIWxMzwj"
      },
      "execution_count": null,
      "outputs": []
    },
    {
      "cell_type": "code",
      "source": [
        "?SimpleDirectoryReader"
      ],
      "metadata": {
        "id": "4EW3SzDZM1T0"
      },
      "execution_count": null,
      "outputs": []
    },
    {
      "cell_type": "code",
      "source": [
        "documents = reader.load_data()\n",
        "print(f\"Loaded {len(documents)} docs\")"
      ],
      "metadata": {
        "colab": {
          "base_uri": "https://localhost:8080/"
        },
        "id": "tvnXGlORM6eP",
        "outputId": "68807ee6-e123-41f4-b236-d568a75e3920"
      },
      "execution_count": null,
      "outputs": [
        {
          "output_type": "stream",
          "name": "stdout",
          "text": [
            "Loaded 25 docs\n"
          ]
        }
      ]
    },
    {
      "cell_type": "code",
      "source": [
        "documents"
      ],
      "metadata": {
        "colab": {
          "base_uri": "https://localhost:8080/"
        },
        "id": "M3X5ANE7erie",
        "outputId": "8bfafa6f-d015-4332-8edf-1f5ea53be7a3"
      },
      "execution_count": null,
      "outputs": [
        {
          "output_type": "execute_result",
          "data": {
            "text/plain": [
              "[Document(id_='8d5af365-90a9-49f9-822c-343fe283a70c', embedding=None, metadata={'file_path': '/content/drive/MyDrive/Semantic_Spotter_Support/OpenAI_API_Key.txt', 'file_name': 'OpenAI_API_Key.txt', 'file_type': 'text/plain', 'file_size': 56, 'creation_date': '2024-06-30', 'last_modified_date': '2024-06-30'}, excluded_embed_metadata_keys=['file_name', 'file_type', 'file_size', 'creation_date', 'last_modified_date', 'last_accessed_date'], excluded_llm_metadata_keys=['file_name', 'file_type', 'file_size', 'creation_date', 'last_modified_date', 'last_accessed_date'], relationships={}, text='sk-proj-CrI5j4ocwo8mAmLWbR88T3BlbkFJNMqkvQSDX9McjKHGgQVO', mimetype='text/plain', start_char_idx=None, end_char_idx=None, text_template='{metadata_str}\\n\\n{content}', metadata_template='{key}: {value}', metadata_seperator='\\n'),\n",
              " Document(id_='bf3eb708-1343-4fd6-b3fd-2d07caec8380', embedding=None, metadata={'page_label': '1', 'file_name': 'Recommender_Systems_Datasets.pdf', 'file_path': '/content/drive/MyDrive/Semantic_Spotter_Support/Recommender_Systems_Datasets.pdf', 'file_type': 'application/pdf', 'file_size': 722679, 'creation_date': '2024-06-30', 'last_modified_date': '2024-06-30'}, excluded_embed_metadata_keys=['file_name', 'file_type', 'file_size', 'creation_date', 'last_modified_date', 'last_accessed_date'], excluded_llm_metadata_keys=['file_name', 'file_type', 'file_size', 'creation_date', 'last_modified_date', 'last_accessed_date'], relationships={}, text=\"Recommender Systems and\\nPersonalization Datasets\\nJulian McAuley , UCSD\\nDescription\\nThis page contains a collection of datasets that have been collected for research by our\\nlab. Datasets contain the following features:\\nuser/item interactions\\nstar ratings\\ntimestamps\\nproduct reviews\\nsocial networks\\nitem-to-item relationships (e.g. copurchases, compatibility)\\nproduct images\\nprice, brand, and category information\\nGPS data\\nheart-rate sequences\\nother metadata\\nPlease cite the appropriate reference if you use any of the datasets below .\\nDatasets are in (loose) json format unless specified otherwise, meaning they can be\\ntreated as python dictionary objects. A simple script to read json-formatted data is as\\nfollows:\\ndef parse(path):\\n  g = gzip.open(path, 'r')\\n  for l in g:\\n    yield eval(l)\\nDirectory by Dataset\\nTwitch  live-streaming interactions\\nNPR  interview dialog data\\nThis American Life  podcast transcripts\\nRecipes  and interactions from food.com\\nPaired Recipes  from food.com\\nEndoMondo  fitness tracking data\\nAmazon  product reviews and metadata\\nAmazon  question/answer data\\nAmazon  marketing bias data\\nGoogle Local  business reviews and metadata\\nSteam  video game reviews and bundles\\nGoodreads  book reviews\\nGoodreads  spoilers\\nFashion explanations\\nPinterest  fashion compatibility data\\nModCloth  clothing fit feedback\\nModCloth  marketing bias data\\nRentTheRunway  clothing fit feedback\\nTradesy  bartering data\\nRateBeer  bartering data\\nGameswap  bartering data\\nBehance  community art reviews and image features\\nLibrarything  reviews and social data\\nEpinions  reviews and social data\\nCant understanding data\\nDance Dance Revolution  step charts\\nNES song data\\nBeerAdvocate  multi-aspect beer reviews\\nRateBeer  multi-aspect beer reviews6/30/24, 7:25 PM Recommender Systems Datasets\\nfile:///C:/Users/Admin/Downloads/Recommender Systems Datasets.html 1/24\", mimetype='text/plain', start_char_idx=None, end_char_idx=None, text_template='{metadata_str}\\n\\n{content}', metadata_template='{key}: {value}', metadata_seperator='\\n'),\n",
              " Document(id_='1e70b6a8-88dc-41b6-abe7-89a9527594d1', embedding=None, metadata={'page_label': '2', 'file_name': 'Recommender_Systems_Datasets.pdf', 'file_path': '/content/drive/MyDrive/Semantic_Spotter_Support/Recommender_Systems_Datasets.pdf', 'file_type': 'application/pdf', 'file_size': 722679, 'creation_date': '2024-06-30', 'last_modified_date': '2024-06-30'}, excluded_embed_metadata_keys=['file_name', 'file_type', 'file_size', 'creation_date', 'last_modified_date', 'last_accessed_date'], excluded_llm_metadata_keys=['file_name', 'file_type', 'file_size', 'creation_date', 'last_modified_date', 'last_accessed_date'], relationships={}, text='Facebook  social circles data\\nTwitter  social circles data\\nGoogle+  social circles data\\nReddit  submission popularity and metadata\\nDirectory by Metadata Type\\nThe datasets below can be roughly organized in terms of the types of metadata they\\ncontain:\\nReview text:  see Amazon , BeerAdvocate, RateBeer , Google Local , Google Restaurants\\nImage data:  Amazon , Behance , Pinterest , Google Restaurants\\nItem-to-item relationships:  Amazon\\nQ/A data:  Amazon Q/A\\nGeographical data:  Google Local , Google Restaurants , EndoMondo\\nHeart-Rate data:  EndoMondo\\nBundle data:  Steam\\nPeer-to-peer trades:  Tradesy , RateBeer , Gameswap\\nSocial connections:  Librarything, Epinions\\nFit feedback:  Modcloth, Renttherunway\\nMultple aspects:  BeerAdvocate, RateBeer\\nTwitch\\nDescription\\nThis is a dataset of users consuming streaming content on Twitch. W e retrieved all\\nstreamers, and all users connected in their respective chats, every 10 minutes during 43\\ndays.\\nBasic statistics\\n100k full\\nUsers: 100k 15.5M\\nStreamers (items): 162.6k 465k\\nInteractions: 3M 124M\\nTime steps: 6148 6148\\nMetadata\\nStart and stop times are provided as integers and represent periods of 10 minutes. Stream ID\\ncould be used to retrieve a single broadcast segment from a streamer (not used in our work).\\nUser ID (anonymized)\\nStream ID\\nStreamer username\\nTime start\\nTime stop\\nExample\\n    1,34347669376,grimnax,5415, 5419\\n    1,34391109664,jtgtv,5869,5870\\n    1,34395247264,towshun,5898, 5899\\n    1,34405646144,mithrain,6024, 6025\\n    2,33848559952,chfhdtpgus1,206, 207\\n    2,33881429664,sal_gu,519,524\\n    2,33921292016,chfhdtpgus1,922, 924\\n  \\nDownload link\\nSee our data folder  containing all Twitch files. The file full_a.csv .gz contains the full\\ndataset while 100k.csv  is a subset of 100k users for benchmark purposes. The code is\\navailable in our Github repository .\\nCitation6/30/24, 7:25 PM Recommender Systems Datasets\\nfile:///C:/Users/Admin/Downloads/Recommender Systems Datasets.html 2/24', mimetype='text/plain', start_char_idx=None, end_char_idx=None, text_template='{metadata_str}\\n\\n{content}', metadata_template='{key}: {value}', metadata_seperator='\\n'),\n",
              " Document(id_='b2d96502-b095-452f-b231-3c699ab4c821', embedding=None, metadata={'page_label': '3', 'file_name': 'Recommender_Systems_Datasets.pdf', 'file_path': '/content/drive/MyDrive/Semantic_Spotter_Support/Recommender_Systems_Datasets.pdf', 'file_type': 'application/pdf', 'file_size': 722679, 'creation_date': '2024-06-30', 'last_modified_date': '2024-06-30'}, excluded_embed_metadata_keys=['file_name', 'file_type', 'file_size', 'creation_date', 'last_modified_date', 'last_accessed_date'], excluded_llm_metadata_keys=['file_name', 'file_type', 'file_size', 'creation_date', 'last_modified_date', 'last_accessed_date'], relationships={}, text=\"Please cite the following if you use the data:\\nRecommendation on Live-Streaming Platforms: Dynamic Availability and Repeat\\nConsumption\\nJérémie Rappaz, Julian McAuley and Karl Aberer\\nRecSys , 2021\\nInterview: NPR Media Dialog Data\\nDescription\\nThis dataset contains interview transcripts from National Public Radio (NPR) . Data\\nincludes full interview transcripts and news article headlines.\\nBasic statistics\\nNPR\\nSpeakers: 185K\\nEpisodes (Interviews): 106K\\nUtterances: 3.20M\\nWords: 126.7M\\nMetadata\\nEpisode Date and Title\\nSpeaker Names\\nSpeaker Utterances\\nNews Article Headlines\\nExample\\nepisode:        79679\\nprogram:        Talk of the Nation\\ntitle:          Forecasting the Future of the Internet\\ndate:           2006-05-26\\nepisode_order:  48\\nspeaker:        Professor LARRY PETERSON (Princeton University)\\nutterance:      And this is almost like the neutrality aspect of the  \\nissue, that there are places you just can't get to and the universal  \\nconnectivity of the original Internet is deteriorating. Because of a  \\nlack of security built into the Internet your only recourse is to  \\nthrow up all sorts of protections that are extremely suspicious of  \\nevery bit of traffic that happens to fly by.\\n  \\nDownload link\\nSee the Interview Dataset Page  for download information.\\nCitation\\nPlease cite the following if you use the data:\\nInterview: Large-scale Modeling of Media Dialog with Discourse Patterns and\\nKnowledge Grounding\\nBodhisattwa Prasad Majumder*, Shuyang Li*, Jianmo Ni, Julian McAuley\\nEMNLP , 2020\\npdf\\nThis American Life Podcast T ranscripts\\nDescription\\nThis dataset contains program transcripts from This American Life . Data includes full\\nprogram transcripts and associated audio.\\nBasic statistics\\nThis American Life6/30/24, 7:25 PM Recommender Systems Datasets\\nfile:///C:/Users/Admin/Downloads/Recommender Systems Datasets.html 3/24\", mimetype='text/plain', start_char_idx=None, end_char_idx=None, text_template='{metadata_str}\\n\\n{content}', metadata_template='{key}: {value}', metadata_seperator='\\n'),\n",
              " Document(id_='50023d21-ce31-497c-b936-10bec7591cf9', embedding=None, metadata={'page_label': '4', 'file_name': 'Recommender_Systems_Datasets.pdf', 'file_path': '/content/drive/MyDrive/Semantic_Spotter_Support/Recommender_Systems_Datasets.pdf', 'file_type': 'application/pdf', 'file_size': 722679, 'creation_date': '2024-06-30', 'last_modified_date': '2024-06-30'}, excluded_embed_metadata_keys=['file_name', 'file_type', 'file_size', 'creation_date', 'last_modified_date', 'last_accessed_date'], excluded_llm_metadata_keys=['file_name', 'file_type', 'file_size', 'creation_date', 'last_modified_date', 'last_accessed_date'], relationships={}, text='Speakers: 6,608\\nEpisodes: 663\\nUtterances: 163,808\\nWords: 7,390,793\\nMetadata\\nEpisode Act\\nSpeaker Names\\nSpeaker Utterances\\nUtterance Lengths\\nEpisode Audio\\nExample\\nepisode:          ep-1\\nact:              prologue\\nutterance_start:  39.96\\nutterance_end:    54.89\\nduration:         14.93\\nspeaker:          ira glass\\nutterance:        Well, one great thing about starting a new show is  \\nutter anonymity. Nobody really knows what to expect from you. This  \\ninterviewee did not know us from Adam.\\n  \\nDownload link\\nSee the This American Life Dataset Page  for download information.\\nCitation\\nPlease cite the following if you use the data:\\nSpeech Recognition and Multi-Speaker Diarization of Long Conversations\\nHuanru Henry Mao, Shuyang Li, Julian McAuley , Garrison W . Cottrell\\nINTERSPEECH , 2020\\npdf\\nFood.com Recipe & Review Data\\nDescription\\nThese datasets contain recipe details and reviews from Food.com  (formerly\\nGeniusKitchen). Data includes cooking recipes and review texts.\\nBasic statistics\\nFood.com\\nNumber of recipes: 231,637\\nNumber of users: 226,570\\nNumber of reviews: 1,132,367\\nMetadata\\nRatings and Reviews\\nRecipe Name, Description, Ingredients, and Directions\\nRecipe Categories (T ags)\\nRecipe Nutrition Information\\nExample\\nRecipe:\\nname:               beer mac n cheese soup\\nid:                 499490\\nminutes:            45\\ncontributor_id:     560491\\nsubmitted:          2013-04-27\\ntags:               60-minutes-or-less6/30/24, 7:25 PM Recommender Systems Datasets\\nfile:///C:/Users/Admin/Downloads/Recommender Systems Datasets.html 4/24', mimetype='text/plain', start_char_idx=None, end_char_idx=None, text_template='{metadata_str}\\n\\n{content}', metadata_template='{key}: {value}', metadata_seperator='\\n'),\n",
              " Document(id_='c6b7d33a-977e-4f4d-b18b-bb4d619fd228', embedding=None, metadata={'page_label': '5', 'file_name': 'Recommender_Systems_Datasets.pdf', 'file_path': '/content/drive/MyDrive/Semantic_Spotter_Support/Recommender_Systems_Datasets.pdf', 'file_type': 'application/pdf', 'file_size': 722679, 'creation_date': '2024-06-30', 'last_modified_date': '2024-06-30'}, excluded_embed_metadata_keys=['file_name', 'file_type', 'file_size', 'creation_date', 'last_modified_date', 'last_accessed_date'], excluded_llm_metadata_keys=['file_name', 'file_type', 'file_size', 'creation_date', 'last_modified_date', 'last_accessed_date'], relationships={}, text=\"                    time-to-make\\n                    preparation\\nnutrition:          678.8\\n                    70.0\\n                    20.0\\n                    46.0\\n                    61.0\\n                    134.0\\n                    11.0\\nn_steps:            7\\nsteps:              cook the bacon in a pan over medium heat and set  \\naside on paper towels to drain , reserving 2 tablespoons of the  \\ngrease in the pan\\n                    add the onion , carrot , celery and jalapeno and  \\ncook until tender , about 10-15 minutes\\n                    add the garlic and cook until fragrant , about a  \\nminute\\n                    mix in the flour and let it cook for 2-3 minutes\\n                    add the broth , beer , nutmeg , bacon and  \\nmacaroni and let cook until the macaroni is al-dente , about 7-8  \\nminutes\\n                    add the cream , mustard , worcestershire sauce  \\nand cheese and cook until the cheese has melted without bringing it  \\nback to a boil\\n                    season with cayenne , salt and pepper to taste\\ndescription:        all of the flavors of mac n' cheese in the form  \\nof a hot bowl of soup!  submitted by kevin lynch\\ningredients:        bacon\\n                    onion\\n                    carrots\\n                    celery\\n                    jalapeno pepper\\n                    garlic cloves\\n                    flour\\n                    chicken broth\\n                    beer\\n                    nutmeg\\n                    elbow macaroni\\n                    heavy cream\\n                    dijon mustard\\n                    worcestershire sauce\\n                    cheddar cheese\\n                    cayenne\\n                    salt and pepper\\nn_ingredients:      17\\n  \\nReview:\\nuser_id:       8937\\nrecipe_id:     44394\\ndate:          2002-12-01\\nrating:        4\\nreview:        This worked very well and is EASY.  I used not quite a  \\nwhole package (10oz) of white chips.  Great!\\n  \\nDownload link\\nSee the Food.com Dataset Page  for download information.\\nCitation\\nPlease cite the following if you use the data:\\nGenerating Personalized Recipes from Historical User Preferences\\nBodhisattwa Prasad Majumder*, Shuyang Li*, Jianmo Ni, Julian McAuley\\nEMNLP , 2019\\npdf\\nRecipe Pairs data\\nDescription6/30/24, 7:25 PM Recommender Systems Datasets\\nfile:///C:/Users/Admin/Downloads/Recommender Systems Datasets.html 5/24\", mimetype='text/plain', start_char_idx=None, end_char_idx=None, text_template='{metadata_str}\\n\\n{content}', metadata_template='{key}: {value}', metadata_seperator='\\n'),\n",
              " Document(id_='e5efe93e-dc8d-4850-9022-25887248e5eb', embedding=None, metadata={'page_label': '6', 'file_name': 'Recommender_Systems_Datasets.pdf', 'file_path': '/content/drive/MyDrive/Semantic_Spotter_Support/Recommender_Systems_Datasets.pdf', 'file_type': 'application/pdf', 'file_size': 722679, 'creation_date': '2024-06-30', 'last_modified_date': '2024-06-30'}, excluded_embed_metadata_keys=['file_name', 'file_type', 'file_size', 'creation_date', 'last_modified_date', 'last_accessed_date'], excluded_llm_metadata_keys=['file_name', 'file_type', 'file_size', 'creation_date', 'last_modified_date', 'last_accessed_date'], relationships={}, text='This is a collection recipes paired with variants, e.g. a recipe matched with a vegan\\nversion of the same recipe.\\nBasic statistics\\nFood.com\\nNumber of recipes: 83,000\\nNumber of base recipes: 36,000\\nNumber of target recipes: 60,000\\nMetadata\\nRatings and Reviews\\nRecipe Name, Description, Ingredients, and Directions\\nRecipe Categories (T ags)\\nRecipe Nutrition Information\\nDownload link\\nSee the Recipe Pairs Dataset Page  for download information.\\nCitation\\nPlease cite the following if you use the data:\\nSHARE: a System for Hierarchical Assistive Recipe Editing\\nShuyang Li, Yufei Li, Jianmo Ni, Julian McAuley\\nEMNLP , 2022\\npdf\\nEndoMondo Fitness T racking Data\\nDescription\\nThis is a collection of workout logs from users of EndoMondo . Data includes multiple\\nsources of sequential sensor data such as heart rate logs, speed, GPS, as well as sport\\ntype, gender and weather conditions.\\nBasic statistics\\nUsers: 1,104\\nWorkouts: 253,020\\nMetadata\\nUser Identifier\\nGender\\nSport type\\nLatitude/Longitude/Altitude sequences (with timestamps)\\nHeart rates\\nVarious derived sequences\\nExample\\nuserId: 10921915\\ngender: male\\nsport: bike\\nid: 396826535\\nlongitude: [24.64977040886879, 24.65014273300767, 24.650910682976246,  \\n24.650668865069747, 24.649145286530256, ...]\\nlatitude: [60.173348765820265, 60.173239801079035, 60.17298021353781,  \\n60.172477969899774, 60.17186114564538, ...]\\naltitude: [-1.8044666444624418, -1.8190453555595787,  \\n-1.8190453555595787, -1.8511185199732794, -1.871528715509271, ...]\\ntimestamp: [1408898746, 1408898754, 1408898765, 1408898778,  \\n1408898794, ...]\\ntime_elapsed: [-0.12256752559145224, -0.12221090169596584,  \\n-0.12172054383967204, -0.12114103000950663, -0.12042778221853381,  \\n...]\\nheart_rate: [-8.197369036801112, -5.867841701016304,  \\n-3.961864789919643, -4.173640002263717, -3.961864789919643, ...]\\nderived_speed: [-7.0829444390064396, -2.8061928357004815,  \\n-0.3976286593020398, -0.7571073884764162, 2.6415189187026646, ...]6/30/24, 7:25 PM Recommender Systems Datasets\\nfile:///C:/Users/Admin/Downloads/Recommender Systems Datasets.html 6/24', mimetype='text/plain', start_char_idx=None, end_char_idx=None, text_template='{metadata_str}\\n\\n{content}', metadata_template='{key}: {value}', metadata_seperator='\\n'),\n",
              " Document(id_='f2816e8e-c6bf-4c3d-aaec-1dadb18b1250', embedding=None, metadata={'page_label': '7', 'file_name': 'Recommender_Systems_Datasets.pdf', 'file_path': '/content/drive/MyDrive/Semantic_Spotter_Support/Recommender_Systems_Datasets.pdf', 'file_type': 'application/pdf', 'file_size': 722679, 'creation_date': '2024-06-30', 'last_modified_date': '2024-06-30'}, excluded_embed_metadata_keys=['file_name', 'file_type', 'file_size', 'creation_date', 'last_modified_date', 'last_accessed_date'], excluded_llm_metadata_keys=['file_name', 'file_type', 'file_size', 'creation_date', 'last_modified_date', 'last_accessed_date'], relationships={}, text='distance: [-4.372303649217691, -2.374952819539426,  \\n-0.07926348591212737, 0.4284751220389811, 4.710835498111755, ...]\\ntar_heart_rate: [100, 111, 120, 119, 120, ...]\\ntar_derived_speed: [0, 10.751376415573548, 16.806294372816662,  \\n15.902596545765366, 24.446443398153843, ...]\\nsince_begin: [1378478.8892184314, 1378478.8892184314,  \\n1378478.8892184314, 1378478.8892184314, 1378478.8892184314, ...]\\nsince_last: [2158.84607810351, 2158.84607810351, 2158.84607810351,  \\n2158.84607810351, 2158.84607810351, ...]\\nDownload link\\nSee the FitRec Dataset Page  for download information.\\nCitation\\nPlease cite the following if you use the data:\\nModeling heart rate and activity data for personalized fitness recommendation\\nJianmo Ni, Larry Muhlstein, Julian McAuley\\nWWW , 2019\\npdf\\nAmazon Product Reviews\\nDescription\\nThis is a large-scale Amazon Reviews dataset collected in 2023. This dataset contains\\n48.19 million items, and 571.54 million reviews from 54.51 million users.\\nBasic statistics\\nRatings: 571.54 million\\nUsers: 54.51 million\\nItems: 48.19 million\\nTimespan: May 1996 - September 2023\\nMetadata\\n1. User Reviews  (ratings, text, helpfulness votes, etc.);\\n2. Item Metadata  (descriptions, price, raw image, etc.);\\n3. Links  (user-item / bought together graphs).\\nExample\\n{\\n  \"sort_timestamp\": 1634275259292,\\n  \"rating\": 3.0,\\n  \"helpful_votes\": 0,\\n  \"title\": \"Meh\",\\n  \"text\": \"These were lightweight and soft but much too small for my  \\nliking. I would have preferred two of these together to make one loc.  \\nFor that reason I will not be repurchasing.\",\\n  \"images\": [\\n    {\\n      \"small_image_url\": \" https://m.media-\\namazon.com/images/I/81FN4c0VHzL._SL256_.jpg \",\\n      \"medium_image_url\": \" https://m.media-\\namazon.com/images/I/81FN4c0VHzL._SL800_.jpg \",\\n      \"large_image_url\": \" https://m.media-\\namazon.com/images/I/81FN4c0VHzL._SL1600_.jpg \",\\n      \"attachment_type\": \"IMAGE\"\\n    }\\n  ],\\n  \"asin\": \"B088SZDGXG\",\\n  \"verified_purchase\": true,\\n  \"parent_asin\": \"B08BBQ29N5\",\\n  \"user_id\": \"AEYORY2AVPMCPDV57CE337YU5LXA\"\\n}\\nDownload link\\nSee the Amazon Reviews 2023  page for download information.6/30/24, 7:25 PM Recommender Systems Datasets\\nfile:///C:/Users/Admin/Downloads/Recommender Systems Datasets.html 7/24', mimetype='text/plain', start_char_idx=None, end_char_idx=None, text_template='{metadata_str}\\n\\n{content}', metadata_template='{key}: {value}', metadata_seperator='\\n'),\n",
              " Document(id_='4fc9e821-609a-4191-b93a-2c0915145534', embedding=None, metadata={'page_label': '8', 'file_name': 'Recommender_Systems_Datasets.pdf', 'file_path': '/content/drive/MyDrive/Semantic_Spotter_Support/Recommender_Systems_Datasets.pdf', 'file_type': 'application/pdf', 'file_size': 722679, 'creation_date': '2024-06-30', 'last_modified_date': '2024-06-30'}, excluded_embed_metadata_keys=['file_name', 'file_type', 'file_size', 'creation_date', 'last_modified_date', 'last_accessed_date'], excluded_llm_metadata_keys=['file_name', 'file_type', 'file_size', 'creation_date', 'last_modified_date', 'last_accessed_date'], relationships={}, text='You can also download data from previous versions of these datasets:\\nAmazon Reviews 2018\\nAmazon Reviews 2014\\nCitation\\nPlease cite the following if you use the data:\\n2023 version\\nBridging Language and Items for Retrieval and Recommendation\\nYupeng Hou, Jiacheng Li, Zhankui He, An Yan, Xiusi Chen, Julian McAuley\\narXiv\\npdf\\n2018 version\\nJustifying recommendations using distantly-labeled reviews and fined-grained\\naspects\\nJianmo Ni, Jiacheng Li, Julian McAuley\\nEMNLP , 2019\\npdf\\n2014 version\\nUps and downs: Modeling the visual evolution of fashion trends with one-class\\ncollaborative filtering\\nRuining He, Julian McAuley\\nWWW , 2016\\npdf\\nImage-based recommendations on styles and substitutes\\nJulian McAuley , Christopher Targett, Javen Shi, Anton van den Hengel\\nSIGIR , 2015\\npdf\\nAmazon Question and Answer Data\\nDescription\\nThese datasets contain questions and answers about products from the Amazon dataset\\nabove.\\nBasic statistics\\nQuestions: 1.48 million\\nAnswers: 4,019,744\\nLabeled yes/no questions: 309,419\\nNumber of unique products with questions: 191,185\\nMetadata\\nquestion and answer text\\nis the question binary (yes/no), and if so does it have a yes/no answer?\\ntimestamps\\nproduct ID (to reference the review dataset)\\nExample\\n{\\n  \"asin\": \"B000050B6Z\",\\n  \"questionType\": \"yes/no\",\\n  \"answerType\": \"Y\",\\n  \"answerTime\": \"Aug 8, 2014\",\\n  \"unixTime\": 1407481200,\\n  \"question\": \"Can you use this unit with GEL shaving cans?\",\\n  \"answer\": \"Yes. If the can fits in the machine it will despense hot  \\ngel lather. I\\'ve been using my machine for both , gel and traditional  \\nlather for over 10 years.\"\\n}\\nDownload link\\nSee the Amazon Q/A  Page  for download information.6/30/24, 7:25 PM Recommender Systems Datasets\\nfile:///C:/Users/Admin/Downloads/Recommender Systems Datasets.html 8/24', mimetype='text/plain', start_char_idx=None, end_char_idx=None, text_template='{metadata_str}\\n\\n{content}', metadata_template='{key}: {value}', metadata_seperator='\\n'),\n",
              " Document(id_='4615de33-2a6e-446e-b100-ed1a18f9f0b9', embedding=None, metadata={'page_label': '9', 'file_name': 'Recommender_Systems_Datasets.pdf', 'file_path': '/content/drive/MyDrive/Semantic_Spotter_Support/Recommender_Systems_Datasets.pdf', 'file_type': 'application/pdf', 'file_size': 722679, 'creation_date': '2024-06-30', 'last_modified_date': '2024-06-30'}, excluded_embed_metadata_keys=['file_name', 'file_type', 'file_size', 'creation_date', 'last_modified_date', 'last_accessed_date'], excluded_llm_metadata_keys=['file_name', 'file_type', 'file_size', 'creation_date', 'last_modified_date', 'last_accessed_date'], relationships={}, text='Citation\\nPlease cite the following if you use the data:\\nModeling ambiguity , subjectivity , and diverging viewpoints in opinion question\\nanswering systems\\nMengting W an, Julian McAuley\\nInternational Conference on Data Mining (ICDM) , 2016\\npdf\\nAddressing complex and subjective product-related queries with customer reviews\\nJulian McAuley , Alex Yang\\nWorld W ide W eb (WWW) , 2016\\npdf\\nMarketing Bias data\\nDescription\\nThese datasets contain attributes about products sold on ModCloth and Amazon which\\nmay be sources of bias in recommendations (in particular , attributes about how the\\nproducts are marketed). Data also includes user/item interactions for recommendation.\\nBasic statistics\\nModCloth Amazon Electronics\\nReviews: 99,893 1,292,954\\nItems: 1,020 9,560\\nUsers: 44,783 1,157,633\\nBias type: body shape gender\\nMetadata\\nratings\\nproduct images\\nuser identities\\nitem sizes, user genders\\nExample (ModCloth)\\nitem_id,user_id,rating,timestamp,size,fit,user_attr,model_attr,c...\\n7443,Alex,4,2010-01-21 08:00:00+00:00,,,Small,Small,Dresses,,2012,0\\n7443,carolyn.agan,3,2010-01-27 08:00:00+00:00,,,,Small,Dresses,,...\\n7443,Robyn,4,2010-01-29 08:00:00+00:00,,,Small,Small,Dresses,,20...\\n7443,De,4,2010-02-13 08:00:00+00:00,,,,Small,Dresses,,2012,0\\n7443,tasha,4,2010-02-18 08:00:00+00:00,,,Small,Small,Dresses,,20...\\n7443,gina.chihos,5,2010-02-25 08:00:00+00:00,,,,Small,Dresses,,2...\\n7443,Kim,2,2010-02-26 08:00:00+00:00,,,Small,Small,Dresses,,2012,0\\n7443,jess.betcher,5,2010-03-26 07:00:00+00:00,,,,Small,Dresses,,...\\nDownload links\\nSee our project page  for download links.\\nCitation\\nPlease cite the following if you use the data:\\nAddressing Marketing Bias in Product Recommendations\\nMengting W an, Jianmo Ni, Rishabh Misra, Julian McAuley\\nWSDM , 2020\\npdf\\nGoogle Local Reviews (2021)\\nDescription\\nThis dataset contains review information from Google Maps (ratings, text, images, etc.),\\nbusiness metadata (address, geographic info, descriptions, category information, price,\\nopen hours, etc.), and links (related businesses) up to Sep 2021 in the United States.\\nSee also two variants of this dataset below , including a 2021 version, and a version\\ncontaining item images.6/30/24, 7:25 PM Recommender Systems Datasets\\nfile:///C:/Users/Admin/Downloads/Recommender Systems Datasets.html 9/24', mimetype='text/plain', start_char_idx=None, end_char_idx=None, text_template='{metadata_str}\\n\\n{content}', metadata_template='{key}: {value}', metadata_seperator='\\n'),\n",
              " Document(id_='736f8c1f-d563-4925-bae8-4e8206a765b5', embedding=None, metadata={'page_label': '10', 'file_name': 'Recommender_Systems_Datasets.pdf', 'file_path': '/content/drive/MyDrive/Semantic_Spotter_Support/Recommender_Systems_Datasets.pdf', 'file_type': 'application/pdf', 'file_size': 722679, 'creation_date': '2024-06-30', 'last_modified_date': '2024-06-30'}, excluded_embed_metadata_keys=['file_name', 'file_type', 'file_size', 'creation_date', 'last_modified_date', 'last_accessed_date'], excluded_llm_metadata_keys=['file_name', 'file_type', 'file_size', 'creation_date', 'last_modified_date', 'last_accessed_date'], relationships={}, text=\"Basic statistics\\nReviews: 666,324,103\\nUsers: 113,643,107\\nBusinesses: 4,963,1 11\\nReview\\n{\\n    'user_id': '101463350189962023774', \\n    'name': 'Jordan Adams', \\n    'time': 1627750414677, \\n    'rating': 5, \\n    'text': 'Cool place, great people, awesome dentist!', \\n    'pics': [\\n    {\\n      'url': \\n['https://lh5.googleusercontent.com/p/AF1QipNq2nZC5TH4_M7h5xRAd\\n      61hoTgvY1o9lozABguI=w150-h150-k-no-p']\\n    }\\n    ], \\n    'resp': {\\n      'time': 1628455067818, \\n      'text': 'Thank you for your five-star review! -Dr. Blake'\\n    }, \\n    'gmap_id': '0x87ec2394c2cd9d2d:0xd1119cfbee0da6f3'\\n  }\\n  \\nuser_id  - ID of the reviewer\\nname - name of the reviwer\\ntime - time of the review (unix time)\\nrating  - rating of the business\\ntext - text of the review\\npics - pictures of the review\\nresp - business response to the review including unix time and text of the response\\ngmap_id  - ID of the business\\nMetadata\\n{\\n      'name': 'Walgreens Pharmacy', \\n      'address': 'Walgreens Pharmacy, 124 E North St, Kendallville,  \\nIN 46755', \\n      'gmap_id': '0x881614ce7c13acbb:0x5c7b18bbf6ec4f7e', \\n      'description': 'Department of the Walgreens chain providing  \\nprescription medications & other health-related items.', \\n      'latitude': 41.451859999999996, \\n      'longitude': -85.2666757, \\n      'category': ['Pharmacy'], \\n      'avg_rating': 4.2, \\n      'num_of_reviews': 5, \\n      'price': '$$', \\n      'hours': [['Thursday', '8AM–1:30PM'], ['Friday', '8AM–1:30PM'],  \\n['Saturday', '9AM–1:30PM'], ['Sunday', '10AM–1:30PM'], ['Monday',  \\n'8AM–1:30PM'], ['Tuesday', '8AM–1:30PM'], ['Wednesday', '8AM–\\n1:30PM']], \\n      'MISC': {\\n        'Service options': ['Curbside pickup', 'Drive-through', 'In-\\nstore pickup', 'In-store shopping'], \\n        'Health & safety': ['Mask required', 'Staff wear masks',  \\n'Staff get temperature checks'], \\n        'Accessibility': ['Wheelchair accessible entrance',  \\n'Wheelchair accessible parking lot'], \\n        'Planning': ['Quick visit'], \\n        'Payments': ['Checks', 'Debit cards']\\n      }, \\n      'state': 'Closes soon ⋅  1:30PM ⋅  Reopens 2PM', \\n      'relative_results': ['0x881614cd49e4fa33:0x2d507c24ff4f1c74',  \\n'0x8816145bf5141c89:0x535c1d605109f94b',  \\n'0x881614cda24cc591:0xca426e3a9b826432',  \\n'0x88162894d98b91ef:0xd139b34de70d3e03',  \\n'0x881615400b5e57f9:0xc56d17dbe420a67f'], \\n      'url': \\n'https://www.google.com/maps/place//data=!4m2!3m1!1s0x881614ce7c13acb\\n      b:0x5c7b18bbf6ec4f7e?authuser=-1&hl=en&gl=us'6/30/24, 7:25 PM Recommender Systems Datasets\\nfile:///C:/Users/Admin/Downloads/Recommender Systems Datasets.html 10/24\", mimetype='text/plain', start_char_idx=None, end_char_idx=None, text_template='{metadata_str}\\n\\n{content}', metadata_template='{key}: {value}', metadata_seperator='\\n'),\n",
              " Document(id_='b2223a7c-6bf9-4fe3-8f79-3de5a444c68a', embedding=None, metadata={'page_label': '11', 'file_name': 'Recommender_Systems_Datasets.pdf', 'file_path': '/content/drive/MyDrive/Semantic_Spotter_Support/Recommender_Systems_Datasets.pdf', 'file_type': 'application/pdf', 'file_size': 722679, 'creation_date': '2024-06-30', 'last_modified_date': '2024-06-30'}, excluded_embed_metadata_keys=['file_name', 'file_type', 'file_size', 'creation_date', 'last_modified_date', 'last_accessed_date'], excluded_llm_metadata_keys=['file_name', 'file_type', 'file_size', 'creation_date', 'last_modified_date', 'last_accessed_date'], relationships={}, text=\"    }\\n    \\nname - name of the business\\naddress  - address of the business\\ngmap_id  - ID of the business\\ndescription  - description of the business\\nlatitude  - latitude of the business\\nlongitude  - longitude of the business\\ncategory  - category of the business\\navg_rating  - average rating of the business\\nnum_of_reviews  - number of reviews\\nprice  - price of the business\\nhours  - open hours\\nMISC - MISC information\\nstate  - the current status of the business (e.g., permanently closed)\\nrelative_results  - relative businesses recommended by Google\\nurl - URL  of the business\\nDownload links\\nSee the Google Local Dataset Page  for download information.\\nCitation\\nPlease cite the following if you use the data:\\nUCTopic: Unsupervised Contrastive Learning for Phrase Representations and\\nTopic Mining\\nJiacheng Li, Jingbo Shang, Julian McAuley\\nAnnual Meeting of the Association for Computational Linguistics (ACL) , 2022\\npdf\\nPersonalized Showcases: Generating Multi-Modal Explanations for\\nRecommendations\\nAn Yan, Zhankui He, Jiacheng Li, Tianyang Zhang, Julian Mcauley\\narXiv:2207.00422 , 2022\\npdf\\nGoogle Local Reviews (2018)\\nDescription\\nThese datasets contain reviews about businesses from Google Local (Google Maps).\\nData includes geographic information for each business as well as reviews.\\nBasic statistics\\nReviews: 11,453,845\\nUsers: 4,567,431\\nBusinesses: 3,116,785\\nMetadata\\nreviews and ratings\\nGPS coordinates and address\\nUser information (places lived, jobs)\\ntimestamps\\nbusiness category , opening hours, etc.\\nExample (review)\\n{\\n  'rating': 3.0,\\n  'reviewerName': u'an lam',\\n  'reviewText': u'Ch\\\\u1ea5t l\\\\u01b0\\\\u1ee3ng t\\\\u1ea1m \\\\u1ed5n',\\n  'categories': [u'Gi\\\\u1ea3i Tr\\\\xed - Caf\\\\xe9'],\\n  'gPlusPlaceId': u'108103314380004200232',\\n  'unixReviewTime': 1372686659,\\n  'reviewTime': u'Jul 1, 2013',\\n  'gPlusUserId': u'100000010817154263736'\\n}6/30/24, 7:25 PM Recommender Systems Datasets\\nfile:///C:/Users/Admin/Downloads/Recommender Systems Datasets.html 11/24\", mimetype='text/plain', start_char_idx=None, end_char_idx=None, text_template='{metadata_str}\\n\\n{content}', metadata_template='{key}: {value}', metadata_seperator='\\n'),\n",
              " Document(id_='cb9af0e3-3d7f-457f-8f6f-bf8f694b1c39', embedding=None, metadata={'page_label': '12', 'file_name': 'Recommender_Systems_Datasets.pdf', 'file_path': '/content/drive/MyDrive/Semantic_Spotter_Support/Recommender_Systems_Datasets.pdf', 'file_type': 'application/pdf', 'file_size': 722679, 'creation_date': '2024-06-30', 'last_modified_date': '2024-06-30'}, excluded_embed_metadata_keys=['file_name', 'file_type', 'file_size', 'creation_date', 'last_modified_date', 'last_accessed_date'], excluded_llm_metadata_keys=['file_name', 'file_type', 'file_size', 'creation_date', 'last_modified_date', 'last_accessed_date'], relationships={}, text='Example (business)\\n{\\n  \\'name\\': u\\'Diamond Valley Lake Marina\\',\\n  \\'price\\': None,\\n  \\'address\\': [u\\'2615 Angler Ave\\', u\\'Hemet, CA 92545\\'],\\n  \\'hours\\': [[u\\'Monday\\', [[u\\'6:30 am--4:15 pm\\']]], [u\\'Tuesday\\',  \\n[[u\\'6:30 am--4:15 pm\\']]], [u\\'Wednesday\\', [[u\\'6:30 am--4:15 pm\\']], 1],  \\n[u\\'Thursday\\', [[u\\'6:30 am--4:15 pm\\']]], [u\\'Friday\\', [[u\\'6:30 am--4:15  \\npm\\']]], [u\\'Saturday\\', [[u\\'6:30 am--4:15 pm\\']]], [u\\'Sunday\\', [[u\\'6:30  \\nam--4:15 pm\\']]]],\\n  \\'phone\\': u\\'(951) 926-7201\\',\\n  \\'closed\\': False,\\n  \\'gPlusPlaceId\\': \\'104699454385822125632\\',\\n  \\'gps\\': [33.703804, -117.003209]\\n}\\nDownload links\\nPlaces Data  (276mb)\\nUser Data  (178mb)\\nReview Data  (1.4gb)\\nCitation\\nPlease cite the following if you use the data:\\nTranslation-based factorization machines for sequential recommendation\\nRajiv Pasricha, Julian McAuley\\nRecSys , 2018\\npdf\\nTranslation-based recommendation\\nRuining He, W ang-Cheng Kang, Julian McAuley\\nRecSys , 2017\\npdf\\nGoogle Restaurants\\nDescription\\nThis is a mutli-modal dataset of restaurants from Google Local (Google Maps). Data\\nincludes images and reviews posted by users, as well as other metadata for each\\nrestaurant.\\nBasic statistics\\nsubset full\\nRestaurants: 30K 65K\\nUsers: 37K 1.01M\\nReviews: 108K 1.77M\\nImages: 203K 4.43M\\nMetadata\\nGeographical location and address\\nReviews, ratings and images\\nTimestamps\\nBusiness category , opening status, price, etc.\\nExample\\n    \"name\":\"The Fish Spot\",\\n    \"address\":\"5101 W Pico Blvd, Los Angeles, CA  90019\",\\n    \"Description\":null,\\n    \"Latitude\":34.0481627,\\n    \"Longitude\":-118.3494339,\\n    \"category\":[\"Seafood restaurant\"],\\n    \"gmap_url\":\"https://www.google.com/maps/place/The+Fish+Spot/\",\\n    \"Avg_rating\":4.3,\\n    \"Num_of_reviews\":80,\\n    \"price\":\"$$\",6/30/24, 7:25 PM Recommender Systems Datasets\\nfile:///C:/Users/Admin/Downloads/Recommender Systems Datasets.html 12/24', mimetype='text/plain', start_char_idx=None, end_char_idx=None, text_template='{metadata_str}\\n\\n{content}', metadata_template='{key}: {value}', metadata_seperator='\\n'),\n",
              " Document(id_='af26cfb0-f0d7-4057-b317-795a0e329c0e', embedding=None, metadata={'page_label': '13', 'file_name': 'Recommender_Systems_Datasets.pdf', 'file_path': '/content/drive/MyDrive/Semantic_Spotter_Support/Recommender_Systems_Datasets.pdf', 'file_type': 'application/pdf', 'file_size': 722679, 'creation_date': '2024-06-30', 'last_modified_date': '2024-06-30'}, excluded_embed_metadata_keys=['file_name', 'file_type', 'file_size', 'creation_date', 'last_modified_date', 'last_accessed_date'], excluded_llm_metadata_keys=['file_name', 'file_type', 'file_size', 'creation_date', 'last_modified_date', 'last_accessed_date'], relationships={}, text='    \"Reviews\":\\n    [\\n      {\"user_id\":\"111210125124533240892\",\\n      \"time\":\"3 years ago\",\\n      \"Rating\":5,\\n      \"text\":\"Absolutely love this place.\",\\n      \"pics\":[\\n        {\"id\":\"AF1QipO1ejvRhkVBlg-v52UczxYMD7uebcZIhKC9uGud\",\\n         \"url\":[\"https://lh5.googleusercontent.com/p/\"]},\\n        ], \\n      \"link\":\"https://www.google.com/maps/reviews/\"}, \\n    ...,]\\n  \\nDownload link\\nSee our data folder  containing all related files. The file image_review_all.json  contains the\\nfull dataset, while filter_all_t.json  is a subset with filtered review sentences that have\\nhigher correlation with images. Code is available in our Github repository .\\nCitation\\nPlease cite the following if you use the data:\\nPersonalized Showcases: Generating Multi-Modal Explanations for\\nRecommendations\\nAn Yan, Zhankui He, Jiacheng Li, Tianyang Zhang, Julian Mcauley\\narXiv:2207.00422 , 2022\\npdf\\nSteam V ideo Game and Bundle Data\\nDescription\\nThese datasets contain reviews from the Steam video game platform, and information\\nabout which games were bundled together .\\nBasic statistics\\nReviews: 7,793,069\\nUsers: 2,567,538\\nItems: 15,474\\nBundles: 615\\nMetadata\\nreviews\\npurchases, plays, recommends (\"likes\")\\nproduct bundles\\npricing information\\nExample (bundle)\\n{\\n  \\'bundle_final_price\\': \\'$29.66\\',\\n  \\'bundle_url\\': \\'http://store.steampowered.com/bundle/1482/?\\nutm_source=SteamDB...\\',\\n  \\'bundle_price\\': \\'$32.96\\',\\n  \\'bundle_name\\': \\'Two Tribes Complete Pack!\\',\\n  \\'bundle_id\\': \\'1482\\',\\n  \\'items\\': [{\\'genre\\': \\'Casual, Indie\\', \\'item_id\\': \\'38700\\',  \\n\\'discounted_price\\': \\'$4.99\\', \\'item_url\\':  \\n\\'http://store.steampowered.com/app/38700\\', \\'item_name\\': \\'Toki Tori\\'},  \\n{\\'genre\\': \\'Adventure, Casual, Indie\\', \\'item_id\\': \\'201420\\',  \\n\\'discounted_price\\': \\'$14.99\\', \\'item_url\\':  \\n\\'http://store.steampowered.com/app/201420\\', \\'item_name\\': \\'Toki Tori  \\n2+\\'}, {\\'genre\\': \\'Strategy, Indie, Casual\\', \\'item_id\\': \\'38720\\',  \\n\\'discounted_price\\': \\'$4.99\\', \\'item_url\\':  \\n\\'http://store.steampowered.com/app/38720\\', \\'item_name\\': \\'RUSH\\'},  \\n{\\'genre\\': \\'Action, Indie\\', \\'item_id\\': \\'38740\\', \\'discounted_price\\':  \\n\\'$7.99\\', \\'item_url\\': \\'http://store.steampowered.com/app/38740\\',  \\n\\'item_name\\': \\'EDGE\\'}],6/30/24, 7:25 PM Recommender Systems Datasets\\nfile:///C:/Users/Admin/Downloads/Recommender Systems Datasets.html 13/24', mimetype='text/plain', start_char_idx=None, end_char_idx=None, text_template='{metadata_str}\\n\\n{content}', metadata_template='{key}: {value}', metadata_seperator='\\n'),\n",
              " Document(id_='d5a7f9c9-e28f-4669-8f34-23abdafdce8c', embedding=None, metadata={'page_label': '14', 'file_name': 'Recommender_Systems_Datasets.pdf', 'file_path': '/content/drive/MyDrive/Semantic_Spotter_Support/Recommender_Systems_Datasets.pdf', 'file_type': 'application/pdf', 'file_size': 722679, 'creation_date': '2024-06-30', 'last_modified_date': '2024-06-30'}, excluded_embed_metadata_keys=['file_name', 'file_type', 'file_size', 'creation_date', 'last_modified_date', 'last_accessed_date'], excluded_llm_metadata_keys=['file_name', 'file_type', 'file_size', 'creation_date', 'last_modified_date', 'last_accessed_date'], relationships={}, text='  \\'bundle_discount\\': \\'10%\\'\\n}\\nDownload links\\nVersion 1: Review Data  (6.7mb)\\nVersion 1: User and Item Data  (71mb)\\nVersion 2: Review Data  (1.3gb)\\nVersion 2: Item metadata  (2.7mb)\\nBundle Data  (92kb)\\nCitation\\nPlease cite the following if you use the data:\\nSelf-attentive sequential recommendation\\nWang-Cheng Kang, Julian McAuley\\nICDM , 2018\\npdf\\nItem recommendation on monotonic behavior chains\\nMengting W an, Julian McAuley\\nRecSys , 2018\\npdf\\nGenerating and personalizing bundle recommendations on Steam\\nApurva Pathak, Kshitiz Gupta, Julian McAuley\\nSIGIR , 2017\\npdf\\nGoodreads Book Reviews\\nThese datasets contain reviews from the Goodreads book review website, and a variety\\nof attributes describing the items. Critically , these datasets have multiple levels of user\\ninteraction, raging from adding to a \"shelf\", rating, and reading.\\nBasic statistics\\nItems: 1,561,465\\nUsers: 808,749\\nInteractions: 225,394,930\\nMetadata\\nreviews\\nadd-to-shelf, read, review actions\\nbook attributes: title, isbn\\ngraph of similar books\\nExample (interaction data)\\n{\\n  \"user_id\": \"8842281e1d1347389f2ab93d60773d4d\",\\n  \"book_id\": \"130580\",\\n  \"review_id\": \"330f9c153c8d3347eb914c06b89c94da\",\\n  \"isRead\": true,\\n  \"rating\": 4,\\n  \"date_added\": \"Mon Aug 01 13:41:57 -0700 2011\",\\n  \"date_updated\": \"Mon Aug 01 13:42:41 -0700 2011\",\\n  \"read_at\": \"Fri Jan 01 00:00:00 -0800 1988\",\\n  \"started_at\": \"\"\\n}\\nDownload links\\nSee our project page  for download links.\\nCitation\\nPlease cite the following if you use the data:\\nItem recommendation on monotonic behavior chains\\nMengting W an, Julian McAuley6/30/24, 7:25 PM Recommender Systems Datasets\\nfile:///C:/Users/Admin/Downloads/Recommender Systems Datasets.html 14/24', mimetype='text/plain', start_char_idx=None, end_char_idx=None, text_template='{metadata_str}\\n\\n{content}', metadata_template='{key}: {value}', metadata_seperator='\\n'),\n",
              " Document(id_='0087d92e-1126-4d22-a59e-df5e434d3363', embedding=None, metadata={'page_label': '15', 'file_name': 'Recommender_Systems_Datasets.pdf', 'file_path': '/content/drive/MyDrive/Semantic_Spotter_Support/Recommender_Systems_Datasets.pdf', 'file_type': 'application/pdf', 'file_size': 722679, 'creation_date': '2024-06-30', 'last_modified_date': '2024-06-30'}, excluded_embed_metadata_keys=['file_name', 'file_type', 'file_size', 'creation_date', 'last_modified_date', 'last_accessed_date'], excluded_llm_metadata_keys=['file_name', 'file_type', 'file_size', 'creation_date', 'last_modified_date', 'last_accessed_date'], relationships={}, text='RecSys , 2018\\npdf\\nGoodreads Spoilers\\nThese datasets contain reviews from the Goodreads book review website, along with\\nannotated \"spoiler\" information from each review .\\nBasic statistics\\nBooks: 25,475\\nUsers: 18,892\\nReviews: 1,378,033\\nMetadata\\nreviews\\nratings\\nspoilers\\nsee also metadata from the complete Goodreads  dataset\\nExample (spoiler data)\\nSentences are annotated as \"1\" if the sentence contains a spoiler , \"0\" otherwise.\\n{\\n  \\'user_id\\': \\'01ec1a320ffded6b2dd47833f2c8e4fb\\',                           \\n  \\'timestamp\\': \\'2013-12-28\\',                                               \\n  \\'review_sentences\\': [[0, \\'First, be aware that this book is not for  \\nthe faint of heart.\\'],                   \\n   [0, \\'Human trafficking, drugs, kidnapping, abuse in all forms -  \\nthis story contains all of this and more.\\'],\\n   ...,                                                                   \\n   [0, \\'(ARC provided by the author in return for an honest  \\nreview.)\\']],                                       \\n  \\'rating\\': 5,                                                             \\n  \\'has_spoiler\\': False,                                                    \\n  \\'book_id\\': \\'18398089\\',                                                   \\n  \\'review_id\\': \\'4b3ffeaf14310ac6854f140188e191cd\\'\\n}\\nDownload links\\nSee our project page  for download links.\\nCitation\\nPlease cite the following if you use the data:\\nFine-grained spoiler detection from large-scale review corpora\\nMengting W an, Rishabh Misra, Ndapa Nakashole, Julian McAuley\\nACL, 2019\\npdf\\nPairwise Fashion Explanations\\nDescription\\nThe Pair Fashion Explanation (PFE) dataset contains 6407 instances, with each instance\\nincluding items, features and the reason why these items are a good match.\\nMentioned Items and the Percentages:\\n{dress: 9.10%; top: 6.99%; skirt: 6.89%; jacket: 6.01%; shirt: 4.99%;  \\npant: 4.64%; boot: 4.12%; jean: 4.01%; jeans: 3.79%; bag: 3.11%;  \\ncoat: 3.07%; suit: 2.94%; trouser: 2.77%; blazer: 2.75%; trousers:  \\n2.50%; sweater: 2.45%; shoe: 2.20%; blouse: 1.97%; shorts: 1.86%;  \\nshoes: 1.77%; sneaker: 1.70%; sandal: 1.58%; belt: 1.50%; pump:  \\n1.39%; hat: 0.98%; scarf: 0.91%; leggings: 0.84%; necklace: 0.81%;  \\nbra: 0.79%; vest: 0.77%; cardigan: 0.77%; gown: 0.67%; loafer: 0.65%;  \\nsock: 0.63%; sunglass: 0.60%; handbag: 0.45%; sweatshirt: 0.41%;  6/30/24, 7:25 PM Recommender Systems Datasets\\nfile:///C:/Users/Admin/Downloads/Recommender Systems Datasets.html 15/24', mimetype='text/plain', start_char_idx=None, end_char_idx=None, text_template='{metadata_str}\\n\\n{content}', metadata_template='{key}: {value}', metadata_seperator='\\n'),\n",
              " Document(id_='8a675d85-2c65-4848-b558-069f765e16cb', embedding=None, metadata={'page_label': '16', 'file_name': 'Recommender_Systems_Datasets.pdf', 'file_path': '/content/drive/MyDrive/Semantic_Spotter_Support/Recommender_Systems_Datasets.pdf', 'file_type': 'application/pdf', 'file_size': 722679, 'creation_date': '2024-06-30', 'last_modified_date': '2024-06-30'}, excluded_embed_metadata_keys=['file_name', 'file_type', 'file_size', 'creation_date', 'last_modified_date', 'last_accessed_date'], excluded_llm_metadata_keys=['file_name', 'file_type', 'file_size', 'creation_date', 'last_modified_date', 'last_accessed_date'], relationships={}, text='bodysuit: 0.40%; miniskirt: 0.38%; velvet: 0.34%; tote: 0.27%; satin:  \\n0.27%; wool: 0.27%; jumpsuit: 0.26%; cloth: 0.25%; bracelet: 0.23%;  \\nplaid: 0.22%; cap: 0.21%; hoodie: 0.21%; corset: 0.21%; block: 0.17%;  \\nuniform: 0.17%; watch: 0.17%; cover: 0.14%; jumper: 0.14%; sundress:  \\n0.13%; robe: 0.13%; clothes: 0.13%; pack: 0.11%; bustier: 0.11%;  \\nswimsuit: 0.11%; bootie: 0.10%; overalls: 0.09%; clog: 0.09%; shawl:  \\n0.08%; slipper: 0.08%; lingerie: 0.08%; beret: 0.08%; fedora: 0.08%;  \\npullover: 0.07%; costume: 0.06%; slingback: 0.06%; sweatpants: 0.05%;  \\nbeanie: 0.05%; backpack: 0.05%; lounge: 0.04%; ballerina: 0.04%;  \\nespadrille: 0.04%; panty: 0.04%; windbreaker: 0.04%; kilt: 0.03%;  \\nwaistcoat: 0.03%; leotard: 0.03%; saddle: 0.02%; brogue: 0.02%;  \\npantyhose: 0.02%; jumpsuits: 0.02%; culotte: 0.02%; pouch: 0.02%;  \\nkimono: 0.02%; caftan: 0.01%; moccasin: 0.01%; bloomer: 0.01%; t-\\nshirt: 0.01%; briefcase: 0.01%; visor: 0.01%; sari: 0.01%; underwear:  \\n0.01%; wallet: 0.01%; cloche: 0.01%; duffel: 0.01%; swimwear: 0.01%;  \\npanama: 0.01%; slip-on: 0.01%; ballgown: 0.01%; satchel: 0.01%}\\nMetadata\\n1. Items  (dress, top, skirt, etc.);\\n2. Features  (kilt, studded, etc.);\\n3. Explanations  (The outfit looks cohesive because the oversized layers are cinched with a\\nstudded belt, which complements the little strip from a kilt skirt that is also af fixed to the belt,\\ncreating a visually pleasing balance in the outfit.);\\nExample\\n{\\n  \"items\": [\\'trousers\\', \\'belt\\'],\\n  \"features\": [\\'tone-on-tone burgundy, slight flare\\', \\'big circular  \\ngold buckle\\'],\\n  \"explanations\": \"They all share a similar color scheme and the  \\npieces have a cohesive silhouette that creates a polished and  \\nsophisticated look.\"\\n}\\nDownload link\\nSee our project page  for download information.\\nCitation\\nPlease cite the following if you use the data:\\nDeciphering Compatibility Relationships with T extual Descriptions via Extraction\\nand Explanation.\\nYu Wang, Zexue He, Zhankui He, Hao Xu, Julian McAuley .\\nAAAI 2024\\npdf\\nPinterest Fashion Compatibility\\nThis dataset contains images (scenes) containing fashion products, which are labeled\\nwith bounding boxes and links to the corresponding products.\\nBasic statistics\\nScenes: 47,739\\nProducts: 38,111\\nScene-Product Pairs: 93,274\\nMetadata\\nproduct IDs\\nbounding boxes\\nExample (fashion.json)\\n{\\n    \"product\": \"0027e30879ce3d87f82f699f148bff7e\", \\n    \"scene\": \"cdab9160072dd1800038227960ff6467\", \\n    \"bbox\": [6/30/24, 7:25 PM Recommender Systems Datasets\\nfile:///C:/Users/Admin/Downloads/Recommender Systems Datasets.html 16/24', mimetype='text/plain', start_char_idx=None, end_char_idx=None, text_template='{metadata_str}\\n\\n{content}', metadata_template='{key}: {value}', metadata_seperator='\\n'),\n",
              " Document(id_='e06f5e96-e7e3-45e6-9dcc-efca49f444e8', embedding=None, metadata={'page_label': '17', 'file_name': 'Recommender_Systems_Datasets.pdf', 'file_path': '/content/drive/MyDrive/Semantic_Spotter_Support/Recommender_Systems_Datasets.pdf', 'file_type': 'application/pdf', 'file_size': 722679, 'creation_date': '2024-06-30', 'last_modified_date': '2024-06-30'}, excluded_embed_metadata_keys=['file_name', 'file_type', 'file_size', 'creation_date', 'last_modified_date', 'last_accessed_date'], excluded_llm_metadata_keys=['file_name', 'file_type', 'file_size', 'creation_date', 'last_modified_date', 'last_accessed_date'], relationships={}, text='        0.434097, \\n        0.859363, \\n        0.560254, \\n        1.0\\n    ]\\n}\\nDownload links\\nSee our project page  for download links, and for instructions as to how the product\\nimages can be collected from Pinterest.\\nCitation\\nPlease cite the following if you use the data:\\nComplete the Look: Scene-based complementary product recommendation\\nWang-Cheng Kang, Eric Kim, Jure Leskovec, Charles Rosenberg, Julian McAuley\\nCVPR , 2019\\npdf\\nClothing Fit Data\\nDescription\\nThese datasets contain measurements of clothing fit from ModCloth  and\\nRentTheRunway .\\nBasic statistics\\nModcloth Renttherunway\\nNumber of users: 47,958 105,508\\nNumber of items: 1,378 5,850\\nNumber of transactions: 82,790 192,544\\nMetadata\\nratings and reviews\\nfit feedback (small/fit/large etc.)\\nuser/item measurements\\ncategory information\\nExample (RentTheRunway)\\n{\\n  \"fit\": \"fit\",\\n  \"user_id\": \"420272\",\\n  \"bust size\": \"34d\",\\n  \"item_id\": \"2260466\",\\n  \"weight\": \"137lbs\",\\n  \"rating\": \"10\",\\n  \"rented for\": \"vacation\",\\n  \"review_text\": \"An adorable romper! Belt and zipper were a little  \\nhard to navigate in a full day of wear/bathroom use, but that\\'s to be  \\nexpected. Wish it had pockets, but other than that-- absolutely  \\nperfect! I got a million compliments.\",\\n  \"body type\": \"hourglass\",\\n  \"review_summary\": \"So many compliments!\",\\n  \"category\": \"romper\",\\n  \"height\": \"5\\' 8\\\\\"\",\\n  \"size\": 14,\\n  \"age\": \"28\",\\n  \"review_date\": \"April 20, 2016\"\\n}\\nDownload links\\nModcloth  (8.5mb)\\nRenttherunway  (31mb)\\nCitation\\nPlease cite the following if you use the data:6/30/24, 7:25 PM Recommender Systems Datasets\\nfile:///C:/Users/Admin/Downloads/Recommender Systems Datasets.html 17/24', mimetype='text/plain', start_char_idx=None, end_char_idx=None, text_template='{metadata_str}\\n\\n{content}', metadata_template='{key}: {value}', metadata_seperator='\\n'),\n",
              " Document(id_='a4b53eef-d39d-41fa-b971-966969b26797', embedding=None, metadata={'page_label': '18', 'file_name': 'Recommender_Systems_Datasets.pdf', 'file_path': '/content/drive/MyDrive/Semantic_Spotter_Support/Recommender_Systems_Datasets.pdf', 'file_type': 'application/pdf', 'file_size': 722679, 'creation_date': '2024-06-30', 'last_modified_date': '2024-06-30'}, excluded_embed_metadata_keys=['file_name', 'file_type', 'file_size', 'creation_date', 'last_modified_date', 'last_accessed_date'], excluded_llm_metadata_keys=['file_name', 'file_type', 'file_size', 'creation_date', 'last_modified_date', 'last_accessed_date'], relationships={}, text='Decomposing fit semantics for product size recommendation in metric spaces\\nRishabh Misra, Mengting W an, Julian McAuley\\nRecSys , 2018\\npdf\\nProduct Exchange/Bartering Data\\nDescription\\nThese datasets contain peer-to-peer trades from various recommendation platforms.\\nBasic statistics\\nTradesy Ratebeer Gameswap\\nNumber of users: 128,152 2,215 9,888\\nNumber of transactions: 68,543 125,665 3,470\\nMetadata\\npeer-to-peer trades\\n\"have\" and \"want\" lists\\nimage data (tradesy)\\nExample (tradesy)\\n{\\n  \\'lists\\':\\n  {\\n    \\'bought\\': [\\'466\\', \\'459\\', \\'457\\', \\'449\\'],\\n    \\'selling\\': [],\\n    \\'want\\': [],\\n    \\'sold\\': [\\'104\\', \\'103\\', \\'102\\']\\n  },\\n  \\'uid\\': \\'2\\'\\n}\\nDownload links\\nTradesy  (3.8mb)\\nSee the project page  for ratebeer , gameswap (and other) datasets\\nCitation\\nPlease cite the following if you use the data:\\nBartering books to beers: A recommender system for exchange platforms\\nJérémie Rappaz, Maria-Luiza Vladarean, Julian McAuley , Michele Catasta\\nWSDM , 2017\\npdf\\nVBPR: V isual bayesian personalized ranking from implicit feedback\\nRuining He, Julian McAuley\\nAAAI , 2016\\npdf\\nBehance Community Art Data\\nDescription\\nLikes and image data from the community art website Behance. This is a small,\\nanonymized, version of a larger proprietary dataset.\\nBasic statistics\\nUsers: 63,497\\nItems: 178,788\\nAppreciates (\"likes\"): 1,000,000\\nMetadata6/30/24, 7:25 PM Recommender Systems Datasets\\nfile:///C:/Users/Admin/Downloads/Recommender Systems Datasets.html 18/24', mimetype='text/plain', start_char_idx=None, end_char_idx=None, text_template='{metadata_str}\\n\\n{content}', metadata_template='{key}: {value}', metadata_seperator='\\n'),\n",
              " Document(id_='3b8f4c39-42ad-47a9-ba72-f8e14536dd89', embedding=None, metadata={'page_label': '19', 'file_name': 'Recommender_Systems_Datasets.pdf', 'file_path': '/content/drive/MyDrive/Semantic_Spotter_Support/Recommender_Systems_Datasets.pdf', 'file_type': 'application/pdf', 'file_size': 722679, 'creation_date': '2024-06-30', 'last_modified_date': '2024-06-30'}, excluded_embed_metadata_keys=['file_name', 'file_type', 'file_size', 'creation_date', 'last_modified_date', 'last_accessed_date'], excluded_llm_metadata_keys=['file_name', 'file_type', 'file_size', 'creation_date', 'last_modified_date', 'last_accessed_date'], relationships={}, text='appreciates (likes)\\ntimestamps\\nextracted image features\\nExample (\"appreciate\" data)\\nEach entry is a user , item, timestamp triple:\\n276633 01588231 1307583271\\n1238354 01529213 1307583273\\n165550 00485000 1307583337\\n2173258 00776972 1307583340\\n165550 00158226 1307583406\\n1238354 01540285 1307583495\\n2459267 01578261 1307583509\\n165550 00264669 1307583518\\n165550 00171501 1307583536\\nCode to read image features\\nimport struct\\ndef readImageFeatures(path):\\n  f = open(path, \\'rb\\')\\n  while True:\\n    itemId = f.read(8)\\n    if itemId == \\'\\': break\\n    feature = struct.unpack(\\'f\\'*4096, f.read(4*4096))\\n    yield itemId, feature\\nDownload links\\nSee our data folder  containing all Behance files. The folder also contains additional\\ndocumentation.\\nCitation\\nPlease cite the following if you use the data:\\nVista: A visually , socially , and temporally-aware model for artistic recommendation\\nRuining He, Chen Fang, Zhaowen W ang, Julian McAuley\\nRecSys , 2016\\npdf\\nSocial Recommendation Data\\nDescription\\nThese datasets include ratings as well as social (or trust) relationships between users.\\nData are from LibraryThing  (a book review website) and epinions  (general consumer\\nreviews).\\nBasic statistics\\nLibrarything Epinions\\nNumber of users: 73,882 116,260\\nNumber of items: 337,561 41,269\\nNumber of ratings/feedback: 979,053 181,394\\nNumber of social relations: 120,536 181,304\\nMetadata\\nreviews\\nprice paid (epinions)\\nhelpfulness votes (librarything)\\nflags (librarything)\\nExample (LibraryThing reviews)\\n{\\n  \\'work\\': \\'3067\\',\\n  \\'flags\\': [],\\n  \\'unixtime\\': 1160265600,6/30/24, 7:25 PM Recommender Systems Datasets\\nfile:///C:/Users/Admin/Downloads/Recommender Systems Datasets.html 19/24', mimetype='text/plain', start_char_idx=None, end_char_idx=None, text_template='{metadata_str}\\n\\n{content}', metadata_template='{key}: {value}', metadata_seperator='\\n'),\n",
              " Document(id_='fac834ee-9a8a-4349-bb00-75424bd78173', embedding=None, metadata={'page_label': '20', 'file_name': 'Recommender_Systems_Datasets.pdf', 'file_path': '/content/drive/MyDrive/Semantic_Spotter_Support/Recommender_Systems_Datasets.pdf', 'file_type': 'application/pdf', 'file_size': 722679, 'creation_date': '2024-06-30', 'last_modified_date': '2024-06-30'}, excluded_embed_metadata_keys=['file_name', 'file_type', 'file_size', 'creation_date', 'last_modified_date', 'last_accessed_date'], excluded_llm_metadata_keys=['file_name', 'file_type', 'file_size', 'creation_date', 'last_modified_date', 'last_accessed_date'], relationships={}, text=\"  'stars': 4.5,\\n  'nhelpful': 0,\\n  'time': 'Oct 8, 2006',\\n  'comment': 'great storytelling in this novel about a couple crossed  \\nby a time travelling disorder ',\\n  'user': 'justine'\\n}\\nExample (LibraryThing social network)\\nRodo anehan\\nRodo sevilemar\\nRodo dingsi\\nRodo slash\\nRelaxedReader AnnRig\\nRelaxedReader bookbroke\\nRelaxedReader Bumpersmom\\nRelaxedReader DivaColumbus\\nRelaxedReader AnnRig\\nRelaxedReader bookbroke\\nRelaxedReader BookWorm2729\\nRelaxedReader Bumpersmom\\nDownload links\\nLibraryThing  (594mb)\\nepinions  (66mb)\\nCitation\\nPlease cite the following if you use the data:\\nSPMC: Socially-aware personalized Markov chains for sparse sequential\\nrecommendation\\nChenwei Cai, Ruining He, Julian McAuley\\nIJCAI , 2017\\npdf\\nImproving latent factor models via personalized feature projection for one-class\\nrecommendation\\nTong Zhao, Julian McAuley , Irwin King\\nConference on Information and Knowledge Management (CIKM) , 2015\\npdf\\nOther Non-Recommender-Systems\\nDatasets\\nDescription\\nBelow are various datasets collected by my lab that are not related to recommender\\nsystems specifically . Formats of these datasets vary , so their respective project pages\\nshould be consulted for further details.\\nDogWhistle: Cant Understanding Data\\nDogWhistle is a Chinese dataset collected from the historical records for an online game.\\nIt provides hidden words and the cant for them, with human answers. The dataset is\\nsuitable for semantic similarity evaluation for large language models.\\nBasic statistics\\ntrain dev test\\nGames: 9,817 1,161 1,143\\nRounds: 76,740 9,593 9,592\\nWord Combinations: 18,832 2,243 2,220\\nUnique words: 1,878 1,809 1,820\\nCant: 230,220 28,779 28,7766/30/24, 7:25 PM Recommender Systems Datasets\\nfile:///C:/Users/Admin/Downloads/Recommender Systems Datasets.html 20/24\", mimetype='text/plain', start_char_idx=None, end_char_idx=None, text_template='{metadata_str}\\n\\n{content}', metadata_template='{key}: {value}', metadata_seperator='\\n'),\n",
              " Document(id_='7c73ea05-01b2-4a2d-be42-4a77269f05c8', embedding=None, metadata={'page_label': '21', 'file_name': 'Recommender_Systems_Datasets.pdf', 'file_path': '/content/drive/MyDrive/Semantic_Spotter_Support/Recommender_Systems_Datasets.pdf', 'file_type': 'application/pdf', 'file_size': 722679, 'creation_date': '2024-06-30', 'last_modified_date': '2024-06-30'}, excluded_embed_metadata_keys=['file_name', 'file_type', 'file_size', 'creation_date', 'last_modified_date', 'last_accessed_date'], excluded_llm_metadata_keys=['file_name', 'file_type', 'file_size', 'creation_date', 'last_modified_date', 'last_accessed_date'], relationships={}, text='Metadata\\ncant and the hidden words\\ncant history\\nhuman answers\\nExample (insider subtask)\\n    0 高铁, 周末 , 无情 , 条纹  冷漠 , 休息 , 斑马   冷漠   2\\n    1 高铁, 周末 , 无情 , 条纹  冷漠 , 休息 , 斑马   休息   1\\n    2 高铁, 周末 , 无情 , 条纹  冷漠 , 休息 , 斑马   斑马   3\\n  \\nDownload links\\nPlease refer to our leaderboard page  for download instructions.\\nCitation\\nPlease cite the following if you use the data:\\nBlow the Dog Whistle: A Chinese Dataset for Cant Understanding with Common\\nSense and W orld Knowledge\\nCanwen Xu, W angchunshu Zhou, Tao Ge, Ke Xu, Julian McAuley , Furu W ei\\nNAACL , 2021\\npdf\\nVideo Game Data\\nDescription\\nStep charts from the video game Dance Dance Revolution , and audio files from the NES\\nplatform.\\nBasic statistics\\nNum songs (DDR): 223 (7 hours)\\nNum charts (DDR): 1,102\\nNum games (NES): 397\\nNum songs (NES): 5,278 (46 hours)\\nNum notes (NES): 2,325,636\\nDownload links\\nSee the project pages for Dance Dance Convolution  and NES MDB  for further details and\\nlinks to the data\\nCitation\\nPlease cite the following if you use the data:\\nDance Dance Convolution\\nChris Donahue, Zachary Lipton, Julian McAuley\\nICML , 2017\\npdf\\nThe NES Music Database: A symbolic music dataset with expressive performance\\nattributes\\nChris Donahue, Henry Mao, Julian McAuley\\nInternational Society for Music Information Retrieval Conference (ISMIR) , 2018\\npdf\\nMulti-aspect Reviews\\nDescription\\nThese datasets include reviews with multiple rated dimensions. The most comprehensive\\nof these are beer review datasets from Ratebeer and Beeradvocate, which include\\nsensory aspects such as taste, look, feel, and smell.6/30/24, 7:25 PM Recommender Systems Datasets\\nfile:///C:/Users/Admin/Downloads/Recommender Systems Datasets.html 21/24', mimetype='text/plain', start_char_idx=None, end_char_idx=None, text_template='{metadata_str}\\n\\n{content}', metadata_template='{key}: {value}', metadata_seperator='\\n'),\n",
              " Document(id_='86d3c1f5-08df-4112-91ca-838fd9c9d2a4', embedding=None, metadata={'page_label': '22', 'file_name': 'Recommender_Systems_Datasets.pdf', 'file_path': '/content/drive/MyDrive/Semantic_Spotter_Support/Recommender_Systems_Datasets.pdf', 'file_type': 'application/pdf', 'file_size': 722679, 'creation_date': '2024-06-30', 'last_modified_date': '2024-06-30'}, excluded_embed_metadata_keys=['file_name', 'file_type', 'file_size', 'creation_date', 'last_modified_date', 'last_accessed_date'], excluded_llm_metadata_keys=['file_name', 'file_type', 'file_size', 'creation_date', 'last_modified_date', 'last_accessed_date'], relationships={}, text='Basic statistics\\nRatebeer BeerAdvocate\\nNumber of users: 40,213 33,387\\nNumber of items: 110,419 66,051\\nNumber of ratings/reviews: 2,855,232 1,586,259\\nTimespan: Apr 2000 - Nov 201 1Jan 1998 - Nov 201 1\\nMetadata\\nreviews\\naspect-specific ratings (taste, look, feel, smell, overall impression)\\nproduct category\\nABV\\nExample (ratebeer)\\nbeer/name: John Harvards Simcoe IPA\\nbeer/beerId: 63836\\nbeer/brewerId: 8481\\nbeer/ABV: 5.4\\nbeer/style: India Pale Ale (IPA)\\nreview/appearance: 4/5\\nreview/aroma: 6/10\\nreview/palate: 3/5\\nreview/taste: 6/10\\nreview/overall: 13/20\\nreview/time: 1157587200\\nreview/profileName: hopdog\\nreview/text: On tap at the Springfield, PA location. Poured a deep  \\nand cloudy orange (almost a copper) color with a small sized off  \\nwhite head. Aromas or oranges and all around citric. Tastes of  \\noranges, light caramel and a very light grapefruit finish. I too  \\nwould not believe the 80+ IBUs - I found this one to have a very  \\nlight bitterness with a medium sweetness to it. Light lacing left on  \\nthe glass.\\nDownload links\\nBeerAdvocate  (433mb)\\nRateBeer  (388mb)\\nSentences with aspect labels (annotator 1)  (758kb)\\nSentences with aspect labels (annotator 2)  (759kb)\\nCitation\\nPlease cite the following if you use the data:\\nLearning attitudes and attributes from multi-aspect reviews\\nJulian McAuley , Jure Leskovec, Dan Jurafsky\\nInternational Conference on Data Mining (ICDM) , 2012\\npdf\\nFrom amateurs to connoisseurs: modeling the evolution of user expertise through\\nonline reviews\\nJulian McAuley , Jure Leskovec\\nWWW , 2013\\npdf\\nSocial Circles\\nDescription\\nThese datasets contain social connections and \"circles\" from Facebook, Twitter , and\\nGoogle Plus.\\nBasic statistics\\nFacebook Twitter Google Plus\\nNumber of networks: 10 133 1,000\\nNumber of nodes: 4,039 106,674 192,0756/30/24, 7:25 PM Recommender Systems Datasets\\nfile:///C:/Users/Admin/Downloads/Recommender Systems Datasets.html 22/24', mimetype='text/plain', start_char_idx=None, end_char_idx=None, text_template='{metadata_str}\\n\\n{content}', metadata_template='{key}: {value}', metadata_seperator='\\n'),\n",
              " Document(id_='e9b47c01-a3e3-4904-9c79-29730a819f93', embedding=None, metadata={'page_label': '23', 'file_name': 'Recommender_Systems_Datasets.pdf', 'file_path': '/content/drive/MyDrive/Semantic_Spotter_Support/Recommender_Systems_Datasets.pdf', 'file_type': 'application/pdf', 'file_size': 722679, 'creation_date': '2024-06-30', 'last_modified_date': '2024-06-30'}, excluded_embed_metadata_keys=['file_name', 'file_type', 'file_size', 'creation_date', 'last_modified_date', 'last_accessed_date'], excluded_llm_metadata_keys=['file_name', 'file_type', 'file_size', 'creation_date', 'last_modified_date', 'last_accessed_date'], relationships={}, text='Number of circles: 193 479 5,541\\nMetadata\\nsocial connections\\ncircles (sets of friends sharing a common property)\\nuser metadata\\nExample (Kaggle egonet data)\\nUserId: Friends\\n1: 4 6 12 2 208\\n2: 5 3 17 90 7\\nDownload links\\nSee SNAP  facebook , twitter , and Google Plus  data, as well as the Kaggle competition\\nbased on the same data.\\nCitation\\nPlease cite the following if you use the data:\\nLearning to Discover Social Circles in Ego Networks\\nJulian McAuley , Jure Leskovec\\nNeural Information Processing Systems (NIPS) , 2012\\npdf\\nReddit Submissions\\nDescription\\nSubmissions of reddit posts (and in particular resubmissions of the same content) along\\nwith metadata.\\nBasic statistics\\nNum of submissions (images): 132,308\\nNum of unique images: 16,736\\nTimespan July 2008 - January 2013\\nMetadata\\ntimestamps\\nupvotes/downvotes\\npost title, subreddit, etc.\\nExample\\n#image_id,unixtime,rawtime,title,total_votes,reddit_id,...\\nnumber_of_downvotes,localtime,score,number_of_comments,username\\n1005,1335861624,2012-05-01T15:40:24.968266-07:00,I immediately regret  \\nthis decision,27,t296r,20,pics,7,1335886824,13,0,ninjaroflmaster\\n1005,1336470481,2012-05-08T16:48:01.418140-07:00,\"Pushing your friend  \\ninto the water,Level: 99\",18,tds4i,16,funny,2,1336495681,14,0,hme4\\n1005,1339566752,2012-06-13T12:52:32.371941-07:00,I told him. He  \\nDidn\\'t Listen,6,v0cma,4,funny,2,1339591952,2,0,HeyPatWhatsUp\\n1005,1342200476,2012-07-14T00:27:56.857805-07:00,Don\\'t end up as this  \\nguy.,16,wjivx,7,funny,9,1342225676,-2,2,catalyst24\\nDownload links\\nresubmissions data  (7.3mb)\\nraw html of resubmissions  (1.8gb)\\nSee also the SNAP  project page .\\nCitation\\nPlease cite the following if you use the data:\\nUnderstanding the interplay between titles, content, and communities in social\\nmedia6/30/24, 7:25 PM Recommender Systems Datasets\\nfile:///C:/Users/Admin/Downloads/Recommender Systems Datasets.html 23/24', mimetype='text/plain', start_char_idx=None, end_char_idx=None, text_template='{metadata_str}\\n\\n{content}', metadata_template='{key}: {value}', metadata_seperator='\\n'),\n",
              " Document(id_='ec2fc33d-526b-4c29-b32e-a93330dee1f6', embedding=None, metadata={'page_label': '24', 'file_name': 'Recommender_Systems_Datasets.pdf', 'file_path': '/content/drive/MyDrive/Semantic_Spotter_Support/Recommender_Systems_Datasets.pdf', 'file_type': 'application/pdf', 'file_size': 722679, 'creation_date': '2024-06-30', 'last_modified_date': '2024-06-30'}, excluded_embed_metadata_keys=['file_name', 'file_type', 'file_size', 'creation_date', 'last_modified_date', 'last_accessed_date'], excluded_llm_metadata_keys=['file_name', 'file_type', 'file_size', 'creation_date', 'last_modified_date', 'last_accessed_date'], relationships={}, text='Himabindu Lakkaraju, Julian McAuley , Jure Leskovec\\nICWSM , 2013\\npdf\\nQuestions and comments to Julian McAuley6/30/24, 7:25 PM Recommender Systems Datasets\\nfile:///C:/Users/Admin/Downloads/Recommender Systems Datasets.html 24/24', mimetype='text/plain', start_char_idx=None, end_char_idx=None, text_template='{metadata_str}\\n\\n{content}', metadata_template='{key}: {value}', metadata_seperator='\\n')]"
            ]
          },
          "metadata": {},
          "execution_count": 12
        }
      ]
    },
    {
      "cell_type": "markdown",
      "source": [
        "**Building the query engine**"
      ],
      "metadata": {
        "id": "JoyfWOXyoI3f"
      }
    },
    {
      "cell_type": "code",
      "source": [
        "from llama_index.core.node_parser import SimpleNodeParser\n",
        "from llama_index.core import VectorStoreIndex\n",
        "from IPython.display import display, HTML\n",
        "\n",
        "# create parser and parse document into nodes\n",
        "parser = SimpleNodeParser.from_defaults()\n",
        "nodes = parser.get_nodes_from_documents(documents)\n",
        "\n",
        "# # build index\n",
        "index = VectorStoreIndex(nodes)\n",
        "\n",
        "# Construct Query Engine\n",
        "query_engine = index.as_query_engine()"
      ],
      "metadata": {
        "id": "Q3bd8KDHe3Sr"
      },
      "execution_count": null,
      "outputs": []
    },
    {
      "cell_type": "markdown",
      "source": [
        "**Checking responses and response parameters**"
      ],
      "metadata": {
        "id": "1JLhMgajohrp"
      }
    },
    {
      "cell_type": "code",
      "source": [
        "response = query_engine.query(\"how many Number of base recipes:?\")"
      ],
      "metadata": {
        "id": "K1XEmaMafG88"
      },
      "execution_count": null,
      "outputs": []
    },
    {
      "cell_type": "code",
      "source": [
        "#Checking the response\n",
        "response.response"
      ],
      "metadata": {
        "colab": {
          "base_uri": "https://localhost:8080/",
          "height": 35
        },
        "id": "-1HtaHpZgVVW",
        "outputId": "b5167f91-5c67-434b-e8a1-0f012abe85a6"
      },
      "execution_count": null,
      "outputs": [
        {
          "output_type": "execute_result",
          "data": {
            "text/plain": [
              "'36,000'"
            ],
            "application/vnd.google.colaboratory.intrinsic+json": {
              "type": "string"
            }
          },
          "metadata": {},
          "execution_count": 15
        }
      ]
    },
    {
      "cell_type": "code",
      "source": [
        "#Check the source node\n",
        "response.source_nodes"
      ],
      "metadata": {
        "colab": {
          "base_uri": "https://localhost:8080/"
        },
        "id": "IAmiy_nrgafA",
        "outputId": "c18a7997-5ffd-47c4-ff4c-0814c6b7cc0b"
      },
      "execution_count": null,
      "outputs": [
        {
          "output_type": "execute_result",
          "data": {
            "text/plain": [
              "[NodeWithScore(node=TextNode(id_='9b62ac0a-b1f5-4a2a-823a-786c49232b84', embedding=None, metadata={'page_label': '6', 'file_name': 'Recommender_Systems_Datasets.pdf', 'file_path': '/content/drive/MyDrive/Semantic_Spotter_Support/Recommender_Systems_Datasets.pdf', 'file_type': 'application/pdf', 'file_size': 722679, 'creation_date': '2024-06-30', 'last_modified_date': '2024-06-30'}, excluded_embed_metadata_keys=['file_name', 'file_type', 'file_size', 'creation_date', 'last_modified_date', 'last_accessed_date'], excluded_llm_metadata_keys=['file_name', 'file_type', 'file_size', 'creation_date', 'last_modified_date', 'last_accessed_date'], relationships={<NodeRelationship.SOURCE: '1'>: RelatedNodeInfo(node_id='e5efe93e-dc8d-4850-9022-25887248e5eb', node_type=<ObjectType.DOCUMENT: '4'>, metadata={'page_label': '6', 'file_name': 'Recommender_Systems_Datasets.pdf', 'file_path': '/content/drive/MyDrive/Semantic_Spotter_Support/Recommender_Systems_Datasets.pdf', 'file_type': 'application/pdf', 'file_size': 722679, 'creation_date': '2024-06-30', 'last_modified_date': '2024-06-30'}, hash='086edbb523069705d4658781036287d69c3dd675004d06eb33d8690bff88f6e9')}, text='This is a collection recipes paired with variants, e.g. a recipe matched with a vegan\\nversion of the same recipe.\\nBasic statistics\\nFood.com\\nNumber of recipes: 83,000\\nNumber of base recipes: 36,000\\nNumber of target recipes: 60,000\\nMetadata\\nRatings and Reviews\\nRecipe Name, Description, Ingredients, and Directions\\nRecipe Categories (T ags)\\nRecipe Nutrition Information\\nDownload link\\nSee the Recipe Pairs Dataset Page  for download information.\\nCitation\\nPlease cite the following if you use the data:\\nSHARE: a System for Hierarchical Assistive Recipe Editing\\nShuyang Li, Yufei Li, Jianmo Ni, Julian McAuley\\nEMNLP , 2022\\npdf\\nEndoMondo Fitness T racking Data\\nDescription\\nThis is a collection of workout logs from users of EndoMondo . Data includes multiple\\nsources of sequential sensor data such as heart rate logs, speed, GPS, as well as sport\\ntype, gender and weather conditions.\\nBasic statistics\\nUsers: 1,104\\nWorkouts: 253,020\\nMetadata\\nUser Identifier\\nGender\\nSport type\\nLatitude/Longitude/Altitude sequences (with timestamps)\\nHeart rates\\nVarious derived sequences\\nExample\\nuserId: 10921915\\ngender: male\\nsport: bike\\nid: 396826535\\nlongitude: [24.64977040886879, 24.65014273300767, 24.650910682976246,  \\n24.650668865069747, 24.649145286530256, ...]\\nlatitude: [60.173348765820265, 60.173239801079035, 60.17298021353781,  \\n60.172477969899774, 60.17186114564538, ...]\\naltitude: [-1.8044666444624418, -1.8190453555595787,  \\n-1.8190453555595787, -1.8511185199732794, -1.871528715509271, ...]\\ntimestamp: [1408898746, 1408898754, 1408898765, 1408898778,  \\n1408898794, ...]\\ntime_elapsed: [-0.12256752559145224, -0.12221090169596584,  \\n-0.12172054383967204, -0.12114103000950663, -0.12042778221853381,  \\n...]\\nheart_rate: [-8.197369036801112, -5.867841701016304,  \\n-3.961864789919643, -4.173640002263717, -3.961864789919643, ...]\\nderived_speed: [-7.0829444390064396, -2.8061928357004815,  \\n-0.3976286593020398, -0.7571073884764162, 2.6415189187026646, ...]6/30/24, 7:25 PM Recommender Systems Datasets\\nfile:///C:/Users/Admin/Downloads/Recommender Systems Datasets.html 6/24', mimetype='text/plain', start_char_idx=0, end_char_idx=2058, text_template='{metadata_str}\\n\\n{content}', metadata_template='{key}: {value}', metadata_seperator='\\n'), score=0.7789865324839955),\n",
              " NodeWithScore(node=TextNode(id_='9d1e8801-8d03-434c-a449-422d7d90ba57', embedding=None, metadata={'page_label': '4', 'file_name': 'Recommender_Systems_Datasets.pdf', 'file_path': '/content/drive/MyDrive/Semantic_Spotter_Support/Recommender_Systems_Datasets.pdf', 'file_type': 'application/pdf', 'file_size': 722679, 'creation_date': '2024-06-30', 'last_modified_date': '2024-06-30'}, excluded_embed_metadata_keys=['file_name', 'file_type', 'file_size', 'creation_date', 'last_modified_date', 'last_accessed_date'], excluded_llm_metadata_keys=['file_name', 'file_type', 'file_size', 'creation_date', 'last_modified_date', 'last_accessed_date'], relationships={<NodeRelationship.SOURCE: '1'>: RelatedNodeInfo(node_id='50023d21-ce31-497c-b936-10bec7591cf9', node_type=<ObjectType.DOCUMENT: '4'>, metadata={'page_label': '4', 'file_name': 'Recommender_Systems_Datasets.pdf', 'file_path': '/content/drive/MyDrive/Semantic_Spotter_Support/Recommender_Systems_Datasets.pdf', 'file_type': 'application/pdf', 'file_size': 722679, 'creation_date': '2024-06-30', 'last_modified_date': '2024-06-30'}, hash='9cce77665c6cc76482f49114c072233920baf001e4a839e8da8e37d08b848436')}, text='Speakers: 6,608\\nEpisodes: 663\\nUtterances: 163,808\\nWords: 7,390,793\\nMetadata\\nEpisode Act\\nSpeaker Names\\nSpeaker Utterances\\nUtterance Lengths\\nEpisode Audio\\nExample\\nepisode:          ep-1\\nact:              prologue\\nutterance_start:  39.96\\nutterance_end:    54.89\\nduration:         14.93\\nspeaker:          ira glass\\nutterance:        Well, one great thing about starting a new show is  \\nutter anonymity. Nobody really knows what to expect from you. This  \\ninterviewee did not know us from Adam.\\n  \\nDownload link\\nSee the This American Life Dataset Page  for download information.\\nCitation\\nPlease cite the following if you use the data:\\nSpeech Recognition and Multi-Speaker Diarization of Long Conversations\\nHuanru Henry Mao, Shuyang Li, Julian McAuley , Garrison W . Cottrell\\nINTERSPEECH , 2020\\npdf\\nFood.com Recipe & Review Data\\nDescription\\nThese datasets contain recipe details and reviews from Food.com  (formerly\\nGeniusKitchen). Data includes cooking recipes and review texts.\\nBasic statistics\\nFood.com\\nNumber of recipes: 231,637\\nNumber of users: 226,570\\nNumber of reviews: 1,132,367\\nMetadata\\nRatings and Reviews\\nRecipe Name, Description, Ingredients, and Directions\\nRecipe Categories (T ags)\\nRecipe Nutrition Information\\nExample\\nRecipe:\\nname:               beer mac n cheese soup\\nid:                 499490\\nminutes:            45\\ncontributor_id:     560491\\nsubmitted:          2013-04-27\\ntags:               60-minutes-or-less6/30/24, 7:25 PM Recommender Systems Datasets\\nfile:///C:/Users/Admin/Downloads/Recommender Systems Datasets.html 4/24', mimetype='text/plain', start_char_idx=0, end_char_idx=1541, text_template='{metadata_str}\\n\\n{content}', metadata_template='{key}: {value}', metadata_seperator='\\n'), score=0.7761363231169902)]"
            ]
          },
          "metadata": {},
          "execution_count": 16
        }
      ]
    },
    {
      "cell_type": "code",
      "source": [
        "#Extract the file name\n",
        "response.source_nodes[0].node.metadata['file_name']"
      ],
      "metadata": {
        "colab": {
          "base_uri": "https://localhost:8080/",
          "height": 35
        },
        "id": "Ik9xjWdGgitu",
        "outputId": "17d39c05-3a91-4602-8828-6c17bb5d2904"
      },
      "execution_count": null,
      "outputs": [
        {
          "output_type": "execute_result",
          "data": {
            "text/plain": [
              "'Recommender_Systems_Datasets.pdf'"
            ],
            "application/vnd.google.colaboratory.intrinsic+json": {
              "type": "string"
            }
          },
          "metadata": {},
          "execution_count": 17
        }
      ]
    },
    {
      "cell_type": "code",
      "source": [
        "#Extract the score\n",
        "response.source_nodes[1].score"
      ],
      "metadata": {
        "colab": {
          "base_uri": "https://localhost:8080/"
        },
        "id": "djhjv38Kgoon",
        "outputId": "1e99a272-6040-4b0e-b0a4-bc580fb89978"
      },
      "execution_count": null,
      "outputs": [
        {
          "output_type": "execute_result",
          "data": {
            "text/plain": [
              "0.7761363231169902"
            ]
          },
          "metadata": {},
          "execution_count": 18
        }
      ]
    },
    {
      "cell_type": "markdown",
      "source": [
        "**Creating a response Pipeline**"
      ],
      "metadata": {
        "id": "Df8I2840os_5"
      }
    },
    {
      "cell_type": "code",
      "source": [
        "## Query response function\n",
        "def query_response(user_input):\n",
        "  response = query_engine.query(user_input)\n",
        "  file_name = response.source_nodes[0].node.metadata['file_name']\n",
        "  final_response = response.response + '\\n Check further at ' + file_name + ' document'\n",
        "  return final_response"
      ],
      "metadata": {
        "id": "znjMaMrsgrtJ"
      },
      "execution_count": null,
      "outputs": []
    },
    {
      "cell_type": "code",
      "source": [
        "def initialize_conv():\n",
        "  print('Feel free to ask Questions regarding Recommender Systems and Personalization Datasets. Press exit once you are done')\n",
        "  while True:\n",
        "    user_input = input()\n",
        "    if user_input.lower() == 'exit':\n",
        "      print('Exiting the program... bye')\n",
        "      break\n",
        "    else:\n",
        "      response = query_response(user_input)\n",
        "      display(HTML(f'<p style=\"font-size:20px\">{response}</p>'))"
      ],
      "metadata": {
        "id": "joSQ8Ot0gvHF"
      },
      "execution_count": null,
      "outputs": []
    },
    {
      "cell_type": "code",
      "source": [
        "initialize_conv()"
      ],
      "metadata": {
        "colab": {
          "base_uri": "https://localhost:8080/",
          "height": 759
        },
        "id": "LhjWOm_Ug7R_",
        "outputId": "9a9dee36-a233-4c22-ebf5-ad26f55ea311"
      },
      "execution_count": null,
      "outputs": [
        {
          "name": "stdout",
          "output_type": "stream",
          "text": [
            "Feel free to ask Questions regarding Recommender Systems and Personalization Datasets. Press exit once you are done\n",
            "how many streamers in Twitch\n"
          ]
        },
        {
          "output_type": "display_data",
          "data": {
            "text/plain": [
              "<IPython.core.display.HTML object>"
            ],
            "text/html": [
              "<p style=\"font-size:20px\">162.6k\n",
              " Check further at Recommender_Systems_Datasets.pdf document</p>"
            ]
          },
          "metadata": {}
        },
        {
          "name": "stdout",
          "output_type": "stream",
          "text": [
            "number of nodes\n"
          ]
        },
        {
          "output_type": "display_data",
          "data": {
            "text/plain": [
              "<IPython.core.display.HTML object>"
            ],
            "text/html": [
              "<p style=\"font-size:20px\">4,039 nodes\n",
              " Check further at Recommender_Systems_Datasets.pdf document</p>"
            ]
          },
          "metadata": {}
        },
        {
          "name": "stdout",
          "output_type": "stream",
          "text": [
            "number of nodes in Twitter\n"
          ]
        },
        {
          "output_type": "display_data",
          "data": {
            "text/plain": [
              "<IPython.core.display.HTML object>"
            ],
            "text/html": [
              "<p style=\"font-size:20px\">106,674\n",
              " Check further at Recommender_Systems_Datasets.pdf document</p>"
            ]
          },
          "metadata": {}
        },
        {
          "name": "stdout",
          "output_type": "stream",
          "text": [
            "Num of unique images\n"
          ]
        },
        {
          "output_type": "display_data",
          "data": {
            "text/plain": [
              "<IPython.core.display.HTML object>"
            ],
            "text/html": [
              "<p style=\"font-size:20px\">The number of unique images is not explicitly provided in the context information.\n",
              " Check further at Recommender_Systems_Datasets.pdf document</p>"
            ]
          },
          "metadata": {}
        },
        {
          "name": "stdout",
          "output_type": "stream",
          "text": [
            "Number of unique images in Reddit Submissions\n"
          ]
        },
        {
          "output_type": "display_data",
          "data": {
            "text/plain": [
              "<IPython.core.display.HTML object>"
            ],
            "text/html": [
              "<p style=\"font-size:20px\">16,736\n",
              " Check further at Recommender_Systems_Datasets.pdf document</p>"
            ]
          },
          "metadata": {}
        },
        {
          "name": "stdout",
          "output_type": "stream",
          "text": [
            "Timespan\n"
          ]
        },
        {
          "output_type": "display_data",
          "data": {
            "text/plain": [
              "<IPython.core.display.HTML object>"
            ],
            "text/html": [
              "<p style=\"font-size:20px\">The timespan covered in the provided context information ranges from the year 2006 to 2021.\n",
              " Check further at Recommender_Systems_Datasets.pdf document</p>"
            ]
          },
          "metadata": {}
        },
        {
          "name": "stdout",
          "output_type": "stream",
          "text": [
            "Timespan in Reddit Submissions\n"
          ]
        },
        {
          "output_type": "display_data",
          "data": {
            "text/plain": [
              "<IPython.core.display.HTML object>"
            ],
            "text/html": [
              "<p style=\"font-size:20px\">July 2008 - January 2013\n",
              " Check further at Recommender_Systems_Datasets.pdf document</p>"
            ]
          },
          "metadata": {}
        },
        {
          "name": "stdout",
          "output_type": "stream",
          "text": [
            "Pairwise Fashion Explanations\n"
          ]
        },
        {
          "output_type": "display_data",
          "data": {
            "text/plain": [
              "<IPython.core.display.HTML object>"
            ],
            "text/html": [
              "<p style=\"font-size:20px\">Pairwise Fashion Explanations involve providing detailed descriptions of how different fashion items complement each other in an outfit. This can include explanations on how specific features or items work together to create a cohesive and visually appealing look.\n",
              " Check further at Recommender_Systems_Datasets.pdf document</p>"
            ]
          },
          "metadata": {}
        },
        {
          "name": "stdout",
          "output_type": "stream",
          "text": [
            "Mentioned Items and the Percentages:\n"
          ]
        },
        {
          "output_type": "display_data",
          "data": {
            "text/plain": [
              "<IPython.core.display.HTML object>"
            ],
            "text/html": [
              "<p style=\"font-size:20px\">ModCloth has 1,020 items, Amazon Electronics has 9,560 items, Ratebeer has 110,419 items, and BeerAdvocate has 66,051 items.\n",
              " Check further at Recommender_Systems_Datasets.pdf document</p>"
            ]
          },
          "metadata": {}
        },
        {
          "name": "stdout",
          "output_type": "stream",
          "text": [
            "Mentioned Items and the Percentages in Pairwise Fashion Explanations\n"
          ]
        },
        {
          "output_type": "display_data",
          "data": {
            "text/plain": [
              "<IPython.core.display.HTML object>"
            ],
            "text/html": [
              "<p style=\"font-size:20px\">Items mentioned in the pairwise fashion explanations are trousers and belt. The percentages associated with the items are not provided in the context information.\n",
              " Check further at Recommender_Systems_Datasets.pdf document</p>"
            ]
          },
          "metadata": {}
        },
        {
          "output_type": "stream",
          "name": "stdout",
          "text": [
            "exit\n",
            "Exiting the program... bye\n"
          ]
        }
      ]
    },
    {
      "cell_type": "markdown",
      "source": [
        "**Build a Testing Pipeline**"
      ],
      "metadata": {
        "id": "NgL-Q_bfoz13"
      }
    },
    {
      "cell_type": "code",
      "source": [
        "questions = ['Number of recipes in Recipe Pairs data?', \"number of Workouts in EndoMondo Fitness Tracking Data ?\",\n",
        "             'Amazon Product Reviews ?']"
      ],
      "metadata": {
        "id": "oTaVjqcgh5S5"
      },
      "execution_count": null,
      "outputs": []
    },
    {
      "cell_type": "code",
      "source": [
        "def testing_pipeline(questions):\n",
        "  test_feedback  = []\n",
        "  for i in questions:\n",
        "    print(i)\n",
        "    print(query_response(i))\n",
        "    print('\\n Please provide your feedback on the response provided by the bot')\n",
        "    user_input = input()\n",
        "    test_feedback.append((i,query_response(i),user_input))\n",
        "  feedback_df = pd.DataFrame(test_feedback, columns =['Question', 'Response', 'Good or Bad'])\n",
        "  return feedback_df"
      ],
      "metadata": {
        "id": "vrxsr0hoidmI"
      },
      "execution_count": null,
      "outputs": []
    },
    {
      "cell_type": "code",
      "source": [
        "import pandas as pd"
      ],
      "metadata": {
        "id": "3kIAvOwdigwT"
      },
      "execution_count": null,
      "outputs": []
    },
    {
      "cell_type": "code",
      "source": [
        "testing_pipeline(questions)"
      ],
      "metadata": {
        "colab": {
          "base_uri": "https://localhost:8080/",
          "height": 476
        },
        "id": "lE_kDyS9ijk6",
        "outputId": "6266e230-d9c7-48c7-c0c0-dc64cbad2cee"
      },
      "execution_count": null,
      "outputs": [
        {
          "name": "stdout",
          "output_type": "stream",
          "text": [
            "Number of recipes in Recipe Pairs data?\n",
            "60,000\n",
            " Check further at Recommender_Systems_Datasets.pdf document\n",
            "\n",
            " Please provide your feedback on the response provided by the bot\n",
            "good\n",
            "number of Workouts in EndoMondo Fitness Tracking Data ?\n",
            "253,020\n",
            " Check further at Recommender_Systems_Datasets.pdf document\n",
            "\n",
            " Please provide your feedback on the response provided by the bot\n",
            "good\n",
            "Amazon Product Reviews ?\n",
            "The Amazon Product Reviews dataset contains questions and answers about products from Amazon. It includes basic statistics such as 1.48 million questions, 4,019,744 answers, 309,419 labeled yes/no questions, and 191,185 unique products with questions. The metadata for this dataset includes question and answer text, question type, answer type, timestamps, and product IDs to reference the review dataset. An example entry from the dataset includes information like ASIN, question type, answer type, answer time, Unix time, question, and answer.\n",
            " Check further at Recommender_Systems_Datasets.pdf document\n",
            "\n",
            " Please provide your feedback on the response provided by the bot\n",
            "good\n"
          ]
        },
        {
          "output_type": "execute_result",
          "data": {
            "text/plain": [
              "                                            Question  \\\n",
              "0            Number of recipes in Recipe Pairs data?   \n",
              "1  number of Workouts in EndoMondo Fitness Tracki...   \n",
              "2                           Amazon Product Reviews ?   \n",
              "\n",
              "                                            Response Good or Bad  \n",
              "0  60,000\\n Check further at Recommender_Systems_...        good  \n",
              "1  253,020\\n Check further at Recommender_Systems...        good  \n",
              "2  The Amazon Product Reviews dataset contains qu...        good  "
            ],
            "text/html": [
              "\n",
              "  <div id=\"df-9b7ecbc2-7f7a-4c7a-b487-7539f148d2a5\" class=\"colab-df-container\">\n",
              "    <div>\n",
              "<style scoped>\n",
              "    .dataframe tbody tr th:only-of-type {\n",
              "        vertical-align: middle;\n",
              "    }\n",
              "\n",
              "    .dataframe tbody tr th {\n",
              "        vertical-align: top;\n",
              "    }\n",
              "\n",
              "    .dataframe thead th {\n",
              "        text-align: right;\n",
              "    }\n",
              "</style>\n",
              "<table border=\"1\" class=\"dataframe\">\n",
              "  <thead>\n",
              "    <tr style=\"text-align: right;\">\n",
              "      <th></th>\n",
              "      <th>Question</th>\n",
              "      <th>Response</th>\n",
              "      <th>Good or Bad</th>\n",
              "    </tr>\n",
              "  </thead>\n",
              "  <tbody>\n",
              "    <tr>\n",
              "      <th>0</th>\n",
              "      <td>Number of recipes in Recipe Pairs data?</td>\n",
              "      <td>60,000\\n Check further at Recommender_Systems_...</td>\n",
              "      <td>good</td>\n",
              "    </tr>\n",
              "    <tr>\n",
              "      <th>1</th>\n",
              "      <td>number of Workouts in EndoMondo Fitness Tracki...</td>\n",
              "      <td>253,020\\n Check further at Recommender_Systems...</td>\n",
              "      <td>good</td>\n",
              "    </tr>\n",
              "    <tr>\n",
              "      <th>2</th>\n",
              "      <td>Amazon Product Reviews ?</td>\n",
              "      <td>The Amazon Product Reviews dataset contains qu...</td>\n",
              "      <td>good</td>\n",
              "    </tr>\n",
              "  </tbody>\n",
              "</table>\n",
              "</div>\n",
              "    <div class=\"colab-df-buttons\">\n",
              "\n",
              "  <div class=\"colab-df-container\">\n",
              "    <button class=\"colab-df-convert\" onclick=\"convertToInteractive('df-9b7ecbc2-7f7a-4c7a-b487-7539f148d2a5')\"\n",
              "            title=\"Convert this dataframe to an interactive table.\"\n",
              "            style=\"display:none;\">\n",
              "\n",
              "  <svg xmlns=\"http://www.w3.org/2000/svg\" height=\"24px\" viewBox=\"0 -960 960 960\">\n",
              "    <path d=\"M120-120v-720h720v720H120Zm60-500h600v-160H180v160Zm220 220h160v-160H400v160Zm0 220h160v-160H400v160ZM180-400h160v-160H180v160Zm440 0h160v-160H620v160ZM180-180h160v-160H180v160Zm440 0h160v-160H620v160Z\"/>\n",
              "  </svg>\n",
              "    </button>\n",
              "\n",
              "  <style>\n",
              "    .colab-df-container {\n",
              "      display:flex;\n",
              "      gap: 12px;\n",
              "    }\n",
              "\n",
              "    .colab-df-convert {\n",
              "      background-color: #E8F0FE;\n",
              "      border: none;\n",
              "      border-radius: 50%;\n",
              "      cursor: pointer;\n",
              "      display: none;\n",
              "      fill: #1967D2;\n",
              "      height: 32px;\n",
              "      padding: 0 0 0 0;\n",
              "      width: 32px;\n",
              "    }\n",
              "\n",
              "    .colab-df-convert:hover {\n",
              "      background-color: #E2EBFA;\n",
              "      box-shadow: 0px 1px 2px rgba(60, 64, 67, 0.3), 0px 1px 3px 1px rgba(60, 64, 67, 0.15);\n",
              "      fill: #174EA6;\n",
              "    }\n",
              "\n",
              "    .colab-df-buttons div {\n",
              "      margin-bottom: 4px;\n",
              "    }\n",
              "\n",
              "    [theme=dark] .colab-df-convert {\n",
              "      background-color: #3B4455;\n",
              "      fill: #D2E3FC;\n",
              "    }\n",
              "\n",
              "    [theme=dark] .colab-df-convert:hover {\n",
              "      background-color: #434B5C;\n",
              "      box-shadow: 0px 1px 3px 1px rgba(0, 0, 0, 0.15);\n",
              "      filter: drop-shadow(0px 1px 2px rgba(0, 0, 0, 0.3));\n",
              "      fill: #FFFFFF;\n",
              "    }\n",
              "  </style>\n",
              "\n",
              "    <script>\n",
              "      const buttonEl =\n",
              "        document.querySelector('#df-9b7ecbc2-7f7a-4c7a-b487-7539f148d2a5 button.colab-df-convert');\n",
              "      buttonEl.style.display =\n",
              "        google.colab.kernel.accessAllowed ? 'block' : 'none';\n",
              "\n",
              "      async function convertToInteractive(key) {\n",
              "        const element = document.querySelector('#df-9b7ecbc2-7f7a-4c7a-b487-7539f148d2a5');\n",
              "        const dataTable =\n",
              "          await google.colab.kernel.invokeFunction('convertToInteractive',\n",
              "                                                    [key], {});\n",
              "        if (!dataTable) return;\n",
              "\n",
              "        const docLinkHtml = 'Like what you see? Visit the ' +\n",
              "          '<a target=\"_blank\" href=https://colab.research.google.com/notebooks/data_table.ipynb>data table notebook</a>'\n",
              "          + ' to learn more about interactive tables.';\n",
              "        element.innerHTML = '';\n",
              "        dataTable['output_type'] = 'display_data';\n",
              "        await google.colab.output.renderOutput(dataTable, element);\n",
              "        const docLink = document.createElement('div');\n",
              "        docLink.innerHTML = docLinkHtml;\n",
              "        element.appendChild(docLink);\n",
              "      }\n",
              "    </script>\n",
              "  </div>\n",
              "\n",
              "\n",
              "<div id=\"df-7d9b9997-7bf7-43fc-a5e7-50dee19f62e5\">\n",
              "  <button class=\"colab-df-quickchart\" onclick=\"quickchart('df-7d9b9997-7bf7-43fc-a5e7-50dee19f62e5')\"\n",
              "            title=\"Suggest charts\"\n",
              "            style=\"display:none;\">\n",
              "\n",
              "<svg xmlns=\"http://www.w3.org/2000/svg\" height=\"24px\"viewBox=\"0 0 24 24\"\n",
              "     width=\"24px\">\n",
              "    <g>\n",
              "        <path d=\"M19 3H5c-1.1 0-2 .9-2 2v14c0 1.1.9 2 2 2h14c1.1 0 2-.9 2-2V5c0-1.1-.9-2-2-2zM9 17H7v-7h2v7zm4 0h-2V7h2v10zm4 0h-2v-4h2v4z\"/>\n",
              "    </g>\n",
              "</svg>\n",
              "  </button>\n",
              "\n",
              "<style>\n",
              "  .colab-df-quickchart {\n",
              "      --bg-color: #E8F0FE;\n",
              "      --fill-color: #1967D2;\n",
              "      --hover-bg-color: #E2EBFA;\n",
              "      --hover-fill-color: #174EA6;\n",
              "      --disabled-fill-color: #AAA;\n",
              "      --disabled-bg-color: #DDD;\n",
              "  }\n",
              "\n",
              "  [theme=dark] .colab-df-quickchart {\n",
              "      --bg-color: #3B4455;\n",
              "      --fill-color: #D2E3FC;\n",
              "      --hover-bg-color: #434B5C;\n",
              "      --hover-fill-color: #FFFFFF;\n",
              "      --disabled-bg-color: #3B4455;\n",
              "      --disabled-fill-color: #666;\n",
              "  }\n",
              "\n",
              "  .colab-df-quickchart {\n",
              "    background-color: var(--bg-color);\n",
              "    border: none;\n",
              "    border-radius: 50%;\n",
              "    cursor: pointer;\n",
              "    display: none;\n",
              "    fill: var(--fill-color);\n",
              "    height: 32px;\n",
              "    padding: 0;\n",
              "    width: 32px;\n",
              "  }\n",
              "\n",
              "  .colab-df-quickchart:hover {\n",
              "    background-color: var(--hover-bg-color);\n",
              "    box-shadow: 0 1px 2px rgba(60, 64, 67, 0.3), 0 1px 3px 1px rgba(60, 64, 67, 0.15);\n",
              "    fill: var(--button-hover-fill-color);\n",
              "  }\n",
              "\n",
              "  .colab-df-quickchart-complete:disabled,\n",
              "  .colab-df-quickchart-complete:disabled:hover {\n",
              "    background-color: var(--disabled-bg-color);\n",
              "    fill: var(--disabled-fill-color);\n",
              "    box-shadow: none;\n",
              "  }\n",
              "\n",
              "  .colab-df-spinner {\n",
              "    border: 2px solid var(--fill-color);\n",
              "    border-color: transparent;\n",
              "    border-bottom-color: var(--fill-color);\n",
              "    animation:\n",
              "      spin 1s steps(1) infinite;\n",
              "  }\n",
              "\n",
              "  @keyframes spin {\n",
              "    0% {\n",
              "      border-color: transparent;\n",
              "      border-bottom-color: var(--fill-color);\n",
              "      border-left-color: var(--fill-color);\n",
              "    }\n",
              "    20% {\n",
              "      border-color: transparent;\n",
              "      border-left-color: var(--fill-color);\n",
              "      border-top-color: var(--fill-color);\n",
              "    }\n",
              "    30% {\n",
              "      border-color: transparent;\n",
              "      border-left-color: var(--fill-color);\n",
              "      border-top-color: var(--fill-color);\n",
              "      border-right-color: var(--fill-color);\n",
              "    }\n",
              "    40% {\n",
              "      border-color: transparent;\n",
              "      border-right-color: var(--fill-color);\n",
              "      border-top-color: var(--fill-color);\n",
              "    }\n",
              "    60% {\n",
              "      border-color: transparent;\n",
              "      border-right-color: var(--fill-color);\n",
              "    }\n",
              "    80% {\n",
              "      border-color: transparent;\n",
              "      border-right-color: var(--fill-color);\n",
              "      border-bottom-color: var(--fill-color);\n",
              "    }\n",
              "    90% {\n",
              "      border-color: transparent;\n",
              "      border-bottom-color: var(--fill-color);\n",
              "    }\n",
              "  }\n",
              "</style>\n",
              "\n",
              "  <script>\n",
              "    async function quickchart(key) {\n",
              "      const quickchartButtonEl =\n",
              "        document.querySelector('#' + key + ' button');\n",
              "      quickchartButtonEl.disabled = true;  // To prevent multiple clicks.\n",
              "      quickchartButtonEl.classList.add('colab-df-spinner');\n",
              "      try {\n",
              "        const charts = await google.colab.kernel.invokeFunction(\n",
              "            'suggestCharts', [key], {});\n",
              "      } catch (error) {\n",
              "        console.error('Error during call to suggestCharts:', error);\n",
              "      }\n",
              "      quickchartButtonEl.classList.remove('colab-df-spinner');\n",
              "      quickchartButtonEl.classList.add('colab-df-quickchart-complete');\n",
              "    }\n",
              "    (() => {\n",
              "      let quickchartButtonEl =\n",
              "        document.querySelector('#df-7d9b9997-7bf7-43fc-a5e7-50dee19f62e5 button');\n",
              "      quickchartButtonEl.style.display =\n",
              "        google.colab.kernel.accessAllowed ? 'block' : 'none';\n",
              "    })();\n",
              "  </script>\n",
              "</div>\n",
              "\n",
              "    </div>\n",
              "  </div>\n"
            ],
            "application/vnd.google.colaboratory.intrinsic+json": {
              "type": "dataframe",
              "summary": "{\n  \"name\": \"testing_pipeline(questions)\",\n  \"rows\": 3,\n  \"fields\": [\n    {\n      \"column\": \"Question\",\n      \"properties\": {\n        \"dtype\": \"string\",\n        \"num_unique_values\": 3,\n        \"samples\": [\n          \"Number of recipes in Recipe Pairs data?\",\n          \"number of Workouts in EndoMondo Fitness Tracking Data ?\",\n          \"Amazon Product Reviews ?\"\n        ],\n        \"semantic_type\": \"\",\n        \"description\": \"\"\n      }\n    },\n    {\n      \"column\": \"Response\",\n      \"properties\": {\n        \"dtype\": \"string\",\n        \"num_unique_values\": 3,\n        \"samples\": [\n          \"60,000\\n Check further at Recommender_Systems_Datasets.pdf document\",\n          \"253,020\\n Check further at Recommender_Systems_Datasets.pdf document\",\n          \"The Amazon Product Reviews dataset contains questions and answers about products from Amazon. It includes basic statistics such as 1.48 million questions, 4,019,744 answers, 309,419 labeled yes/no questions, and 191,185 unique products with questions. The metadata for this dataset includes question and answer text, question types, answer types, timestamps, and product IDs to reference the review dataset. An example entry in this dataset includes information like the ASIN, question type, answer type, answer time, Unix time, question, and answer.\\n Check further at Recommender_Systems_Datasets.pdf document\"\n        ],\n        \"semantic_type\": \"\",\n        \"description\": \"\"\n      }\n    },\n    {\n      \"column\": \"Good or Bad\",\n      \"properties\": {\n        \"dtype\": \"category\",\n        \"num_unique_values\": 1,\n        \"samples\": [\n          \"good\"\n        ],\n        \"semantic_type\": \"\",\n        \"description\": \"\"\n      }\n    }\n  ]\n}"
            }
          },
          "metadata": {},
          "execution_count": 25
        }
      ]
    },
    {
      "cell_type": "markdown",
      "source": [
        "Final Steps Refining and Enhancing\n",
        "- Improve Dataset Quality: Clean the dataset and add more relevant documents.\n",
        "- Tune the Vectorizer: Adjust the parameters of the TfidfVectorizer for better\n",
        "   accuracy.\n",
        "- Enhance Response Formatting: Include more detailed snippets, keyword\n",
        "  highlighting, or links to the full documents.\n",
        "- Implement Additional Features: Based on user feedback, you can add features\n",
        "   like filtering results by data and type of information"
      ],
      "metadata": {
        "id": "GPTQunEbpDeo"
      }
    }
  ]
}